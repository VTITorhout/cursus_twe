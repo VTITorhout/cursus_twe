{
 "cells": [
  {
   "cell_type": "markdown",
   "id": "11fce942-38db-4b59-a9df-e9c3fdb567d1",
   "metadata": {},
   "source": [
    "# Beslissingen\n",
    "\n",
    "In de praktijk zullen we in code heel dikwijls beslissingen moeten nemen. Bij de _modulo_ operator hebben we al gezien hoe we kunnen controleren of een getal al dan niet even was, maar hoe we hieruit een beslissing kunnen maken wat er moet gebeuren bij even of oneven is tot nu toe nog onduidelijk. \n",
    "\n",
    "## Booleaanse expressie\n",
    "\n",
    "Iedere beslissing wordt voorafgegaan door een __waar__ of __niet waar__ controle. Afhankelijk van de uitkomt van deze controle zal een bepaald stuk code uitgevoerd moeten worden. De controle hierop is dus haast belangrijker dan de rest van de code. Omwille van deze reden wordt hier dan ook mee gestart!\n",
    "\n",
    "### Boolean type\n",
    "\n",
    "In vorige modules is er gesproken over de verschillende types variabelen, namelijk de `int`, de `float` en de `string`. Er bestaat echter nog een ander type variabele, namelijk de __boolean__, afgekort `bool`. De _boolean_ kan slechts twee waarden bevatten:\n",
    "- True (waar)\n",
    "- False (onwaar)\n",
    "\n",
    "Je zou je kunnen afvragen waarom we nood hebben aan dit type variabele? Wij zouden hier evengoed een `int` kunnen voor gebruiken, waarbij de waarde `0` overeenstemt met `False` en de waarde `1` met `True`. Onder de motorkap zal dit ook zo gebeuren, aangezien het voor de compiler een onmogelijke zaak is om geheugen te reserveren op bitniveau. _Meestal zal een `False` overeen stemmen met `0`, en zullen **alle** andere waarden overeenstemmen met een `True`._\n",
    "\n",
    "De reden waarom dit type variabele wel bestaat is om de leesbaarheid te bevorderen, en om de gebruiker bij te staan bij het ontwerp van zijn code. De editor waarin de gebruiker werkt kan waarschuwen als deze een foutieve waarde wil toekennen aan een `bool`, zoals bijvoorbeeld de waarde van een teller. Mocht er geopteerd zijn om dit in een `int` te stoppen, dan zou de compiler geen melding hierover geven, maar zou de werking van de code wellicht niet het gewenste resultaat geven.\n",
    "\n",
    "### (On)gelijkheden\n",
    "\n",
    "Om te werken met het type `bool` hebben we nood aan relationele operatoren uit de wiskunde. We willen kunnen controleren of twee zaken al dan niet aan elkaar gelijk zijn, wie of wat groter is dan iets anders, ...\n",
    "\n",
    "Volgende relationele operatoren bestaan in Python:\n",
    "\n",
    "|Relationele operator|Python syntax|Beschrijving|\n",
    "|---|---|:---|\n",
    "|$A \\gt B$|A>B|A groter dan B|\n",
    "|$A \\lt B$|A<B|A kleiner dan B|\n",
    "|$A \\le B$|A<=B|A kleiner of gelijk aan B|\n",
    "|$A \\ge B$|A>=B|A groter of gelijk aan B|\n",
    "|$A \\overset{?}{=} B$|A==B|A gelijk aan B|\n",
    "|$A \\neq B$|A!=B|A niet gelijk aan B|\n",
    "\n",
    "De uitkomst van de relationele bewerking zal altijd `True` of `False` zijn. Volgend voorbeeld demonstreert dit:"
   ]
  },
  {
   "cell_type": "code",
   "execution_count": 3,
   "id": "34f29b7c-6a46-44d7-bf78-cca8df6a369b",
   "metadata": {},
   "outputs": [
    {
     "name": "stdout",
     "output_type": "stream",
     "text": [
      "<class 'bool'>\n",
      "False\n"
     ]
    }
   ],
   "source": [
    "uitkomst = 5>6\n",
    "print(type(uitkomst))\n",
    "print(uitkomst)"
   ]
  },
  {
   "cell_type": "markdown",
   "id": "f9466054-2db5-4cb1-b7dc-dcf3e8b6a065",
   "metadata": {},
   "source": [
    "Merk echter wel op dat wij dit meestal zullen benaderen vanuit de wiskunde, maar dat dit voor Python geen verplichting is. Python kan eveneens overweg met relationele bewerkingen op strings. Hiervoor wordt dan _alfabetische_ volgorde gebruikt, en dit karakter per karakter."
   ]
  },
  {
   "cell_type": "code",
   "execution_count": 2,
   "id": "d5ffa467-7b53-4611-8d98-22683b6be6c9",
   "metadata": {},
   "outputs": [
    {
     "name": "stdout",
     "output_type": "stream",
     "text": [
      "True\n"
     ]
    }
   ],
   "source": [
    "print(\"Koen\"<\"koen\")"
   ]
  },
  {
   "cell_type": "markdown",
   "id": "7d551ecc-9ad0-46ce-8fdf-174bf976037a",
   "metadata": {},
   "source": [
    "Bovenstaand voorbeeld kan op het eerste zicht raar lijken, maar a.d.h.v. de ASCII tabel kan dit snel verklaard worden. Je vindt de ASCII tabel terug in [module 1](project:#ascii-target). \n",
    "- K = 0b**100**1011 = 0d75\n",
    "- k = 0b**110**1011 = 0d107\n",
    "\n",
    ":::{admonition} Tip\n",
    ":class: tip\n",
    "Indien je moeite hebt om de ASCII tabel te gebruiken kun je ook gebruik maken van Python functies `ord()` en `chr()` die toelaten een karakter om te zetten van en naar het corresponderende Unicode-code-punt (waar de eerste 128 symbolen deze van de ASCII tabel zijn). Onderstaande code demonstreert dit.\n",
    "```python\n",
    "print(ord('K'))\n",
    " 75\n",
    "print(chr(107))\n",
    " k\n",
    "```\n",
    ":::"
   ]
  },
  {
   "cell_type": "markdown",
   "id": "1af24d79-7521-4097-b77f-8bceb0d2b43e",
   "metadata": {},
   "source": [
    "Er wordt gestart met de eerste letter van de string te vergelijken. De letter `K` heeft een ASCII-waarde die 75 bedraagt, wat beduidend kleiner is dan de letter `k` die een ASCII-waarde heeft van 107. Bij de eerste letter kan Python dus al beslissen dat de relationele verhouding `True` is, want 75 is inderdaad kleiner dan 107.\n",
    "\n",
    "### Booleaanse operatoren\n",
    "\n",
    "In de booleaanse wiskunde bestaan er eveneens operatoren om bewerkingen uit te voeren. Wellicht zijn deze operatoren, zoals de __and__, __or__, __not__, __xor__, __xand__ e.d. reeds eerder gezien, en behoeven deze ook weinig uitleg. In Python zijn de drie belangrijkste operatoren opgenomen (in volgorde van prioriteitsregels). _Probeer bij booleaanse expressies echter altijd haken te gebruiken om de leesbaarheid te verbeteren en fouten met prioriteiten te voorkomen._\n",
    "- NOT: inversie, dus `True` wordt `False` en vice versa\n",
    "- AND: `True` indien beide waarden `True`, anders `False`\n",
    "- OR: `False` indien beide waarden `False`, anders `True` \n",
    "\n",
    "Volgende voorbeelden demonstreren de werking:"
   ]
  },
  {
   "cell_type": "code",
   "execution_count": 8,
   "id": "c42f6a48-d594-4b77-90f0-94e57f61c6fc",
   "metadata": {},
   "outputs": [
    {
     "name": "stdout",
     "output_type": "stream",
     "text": [
      "False\n",
      "True\n",
      "True\n"
     ]
    }
   ],
   "source": [
    "print(not(5<6))\n",
    "print((5<6)and True)\n",
    "print((5<6)or(5>6))"
   ]
  },
  {
   "cell_type": "markdown",
   "id": "cb2bb164-a66d-45c3-b2d0-3f6fb0364e56",
   "metadata": {},
   "source": [
    "Schrijven we iedere lijn stap per stap uit:\n",
    "1) `print(not(5<6))` $\\implies$ `print(not True)` $\\implies$ `print(False)`\n",
    "2) `print((5<6)and True)` $\\implies$ `print(True and True)` $\\implies$ `print(True)`\n",
    "3) `print((5<6)or(5>6))` $\\implies$ `print(True or False)` $\\implies$ `print(True)`\n",
    "### Oefeningen\n",
    "\n",
    "Probeer volgende booleaanse expressies te evalueren naar `True` of `False`. _Ga over de vragen met je muisaanwijzer om de antwoorden te krijgen._\n",
    "- <abbr title=\"True\">$3 \\gt 2$</abbr>\n",
    "- <abbr title=\"False\">$4 \\neq 4$</abbr>\n",
    "- <abbr title=\"False\">$4 \\lt 5 \\quad and \\quad 4 \\lt 3$</abbr>\n",
    "- <abbr title=\"True\">$a \\overset{?}{=} A \\quad or \\quad 4 \\ge 3$</abbr>\n",
    "- <abbr title=\"True\">$(3 \\overset{?}{=} 3 \\quad and \\quad 2 \\lt 1) \\quad or \\quad 5 \\neq 4$</abbr>\n",
    "- <abbr title=\"True\">$not \\;(4 \\le 3)$</abbr>\n",
    "- <abbr title=\"True\">$True \\; or \\; False$</abbr>\n",
    "- <abbr title=\"False\">$not \\; True \\; and \\; False$</abbr>\n",
    "\n",
    "## Als/Dan - constructie\n",
    "\n",
    "Bovenstaande titel is een vrije vertaling vanuit het Engels. In het Engels wordt _if-then_ gebruikt. In de rest van de cursus zal ook de Engels term gehanteerd worden. Soms zal men in de code het tweede woord (_then_) ook niet terugvinden, en beperkt men zich tot enkel de _if_, wat een vergelijking met zich teweeg brengt.\n",
    "\n",
    "## If-statement\n",
    "\n",
    "Het _if-statement_, wat de meest eenvoudige vorm van een vergelijking beschrijf, bepaalt welke taken er moeten uitgevoerd worden wanneer \n",
    "een specifieke booleaanse expressie evalueert naar de waarde `True`. De taken die vervolgens moeten uitgevoerd worden, worden lijn per lijn in code genoteerd, maar naar links verschoven met een zekere [_indentation_](https://en.wikipedia.org/wiki/Indentation_style). Iedere programmeerstijl heeft zijn eigen manier van werken (al dan niet met `{}`), alsook Python. Bij Python kun je gebruik maken van spaties of tabulaties. _Coding guidelines_ schrijven voor om 4 spaties te gebruiken per _indentation_, maar de meeste editors ondersteunen eveneens het gebruik van een enkele tabulatie (die wordt omgezet naar 4 spaties). Men spreekt hier over een _code block_:\n",
    "- Start wanneer de code inspringt\n",
    "- Eindigt met de terugkeer naar het vorige niveau van inspringen\n",
    "- Alle tussenliggende regels maken deel uit van hetzelfde blokje programmacode\n",
    "\n",
    "Volgend syntaxis moet dusdanig gebruikt worden voor een _if-statement_:\n",
    "```\n",
    "if <expressie>:\n",
    "    <code indien waar>\n",
    "    <en nog meer code bij waar>\n",
    "<deze code wordt altijd uitgevoerd>\n",
    "```\n",
    "\n",
    ":::{admonition} Opgelet\n",
    ":class: warning\n",
    "_Vergeet zeker niet het dubbelpunt `:` na het if-statement!_\n",
    ":::\n",
    "\n",
    "Hernemen we ons voorbeeld om te controleren of een getal even is:"
   ]
  },
  {
   "cell_type": "code",
   "execution_count": 11,
   "id": "60127780-2473-4c17-a086-b07f870e4da6",
   "metadata": {},
   "outputs": [
    {
     "name": "stdin",
     "output_type": "stream",
     "text": [
      "Geef een getal op:  22\n"
     ]
    },
    {
     "name": "stdout",
     "output_type": "stream",
     "text": [
      "Even!\n",
      "Het getal was 22.\n"
     ]
    }
   ],
   "source": [
    "getal = int(input(\"Geef een getal op: \"))\n",
    "if (getal%2)==0:\n",
    "    print(\"Even!\")\n",
    "print(f\"Het getal was {getal}.\")"
   ]
  },
  {
   "cell_type": "markdown",
   "id": "79e9fbcf-948a-467f-9df0-dc089ec801e8",
   "metadata": {},
   "source": [
    "Enkel bij even getallen zal in bovenstaande code de tekst `Even!` afgedrukt worden. Zowel bij even als oneven getallen zal het getal met de laatste `print()` functie weergegeven worden, wat misschien niet gewenst is, en ons feilloos tot volgend puntje brengt, namelijk het verschil tussen een _eenzijdige_ en _tweezijdige selectiestructuur_.\n",
    "\n",
    "## If/Else - statement\n",
    "\n",
    "Terwijl een _if-statement_ een _eenzijdige selectiestructuur_ was (iets werd enkel en alleen maar uitgevoerd wanneer aan de expressie werd voldaan), hebben we ook heel dikwijls nood aan een _tweezijdige selectiestructuur_. Op deze manier kunnen we kiezen wat er moet gebeuren wanneer aan de expressie wordt voldaan, maar eveneens kan er code uitgevoerd worden wanneer __niet__ aan de expressie is voldaan. Volgende syntaxis moet hiervoor gebruikt worden:\n",
    "\n",
    "```\n",
    "if <expressie>:\n",
    "    <code indien waar>\n",
    "    <en nog meer code bij waar>\n",
    "else:\n",
    "    <code indien NIET waar>\n",
    "    <en nog meer code bij NIET waar>\n",
    "<deze code wordt altijd uitgevoerd>\n",
    "```\n",
    "\n",
    "Hernemen we ons voorbeeld van controle op even-/onevenheid van een getal:"
   ]
  },
  {
   "cell_type": "code",
   "execution_count": 12,
   "id": "8ddacf94-cc28-4d55-b7b0-a1afd0076d76",
   "metadata": {},
   "outputs": [
    {
     "name": "stdin",
     "output_type": "stream",
     "text": [
      "Geef een getal op:  21\n"
     ]
    },
    {
     "name": "stdout",
     "output_type": "stream",
     "text": [
      "Oneven!\n",
      "Het getal was 21.\n"
     ]
    }
   ],
   "source": [
    "getal = int(input(\"Geef een getal op: \"))\n",
    "if (getal%2)==0:\n",
    "    print(\"Even!\")\n",
    "else:\n",
    "    print(\"Oneven!\")\n",
    "print(f\"Het getal was {getal}.\")"
   ]
  },
  {
   "cell_type": "markdown",
   "id": "956734d7-e35a-4cde-8be5-2b79b71843fb",
   "metadata": {},
   "source": [
    "Hernemen we ons voorbeeld van vorig hoofdstuk op de `ceil` en `floor` methoden."
   ]
  },
  {
   "cell_type": "code",
   "execution_count": 17,
   "id": "f8659c2c-8f03-477a-b8fa-dde817d70422",
   "metadata": {},
   "outputs": [
    {
     "name": "stdout",
     "output_type": "stream",
     "text": [
      "floor(5.1247) = 5\n",
      "ceil(5.1247) = 6\n"
     ]
    }
   ],
   "source": [
    "getal = 5.1247\n",
    "floor = int(getal//1)\n",
    "ceil = getal-floor\n",
    "if (ceil!=0):\n",
    "    ceil = floor + 1\n",
    "else:\n",
    "    ceil = floor\n",
    "print(f\"floor({getal}) = {floor}\")\n",
    "print(f\"ceil({getal}) = {ceil}\")"
   ]
  },
  {
   "cell_type": "markdown",
   "id": "c992ac7b-1fd8-4244-bc85-334463f88037",
   "metadata": {},
   "source": [
    "In de bibliotheek `math` zal dit wellicht op een identieke wijze geïmplementeerd zijn, maar met meer toeters en bellen."
   ]
  },
  {
   "cell_type": "markdown",
   "id": "8187c728-2759-46bb-b5b2-d3ad17af073d",
   "metadata": {},
   "source": [
    "## If/Else/If - statement\n",
    "\n",
    "Ter volledigheid wordt hier ook nog een 3<sup>de</sup> selectiestructuur weergegeven, die toelaat meerdere controles na elkaar te doen.\n",
    "\n",
    "```\n",
    "if <expressie 1>:\n",
    "    <code indien expressie 1 waar>\n",
    "elif <expressie 2>:\n",
    "    <code indien expressie 2 waar>\n",
    "...\n",
    "elif <expressie n>:\n",
    "    <code indien expressie n waar>\n",
    "else:\n",
    "    <code indien expressie n NIET waar>\n",
    "<deze code wordt altijd uitgevoerd>\n",
    "```\n",
    "\n",
    "Als voorbeeld nemen we het werpen van een dobbelsteen:"
   ]
  },
  {
   "cell_type": "code",
   "execution_count": 14,
   "id": "5788a20b-7392-4312-800a-552cf13244e2",
   "metadata": {},
   "outputs": [
    {
     "name": "stdout",
     "output_type": "stream",
     "text": [
      "Ga 6 stappen vooruit\n"
     ]
    }
   ],
   "source": [
    "geworpen = 6\n",
    "if (geworpen==1):\n",
    "    print(\"Ga 1 stap vooruit\")\n",
    "elif (geworpen==2):\n",
    "    print(\"Ga 2 stappen vooruit\")\n",
    "elif (geworpen==3):\n",
    "    print(\"Ga 3 stappen vooruit\")\n",
    "elif (geworpen==4):\n",
    "    print(\"Ga 4 stappen vooruit\")\n",
    "elif (geworpen==5):\n",
    "    print(\"Ga 5 stappen vooruit\")\n",
    "elif (geworpen==6):\n",
    "    print(\"Ga 6 stappen vooruit\")\n",
    "else:\n",
    "    print(\"Je speelt vals, keer terug naar start!\")"
   ]
  },
  {
   "cell_type": "markdown",
   "id": "82d05e2c-7e95-466a-8c4f-d0b7b6bd6dc7",
   "metadata": {},
   "source": [
    "Bovenstaande code is _sequentieel_ uitgevoerd, dus is er gestart aan lijn 2 (`if (geworpen==1):`). Deze lijn evalueerde `False`, zodat er meteen naar lijn 4 is overgesprongen. Ook deze lijn evalueerde `False` en dit gaat verder tot de 4<sup>de</sup> laatste lijn, die __uiteindelijk__ `True` zal evalueren. De processor heeft dus 6 expressies moeten evalueren (wat een bepaalde tijd zal ingenomen hebben). _Persoonlijk vind ik dit een mindere manier van werken, aangezien er geen prioriteiten bestaan in de code. Voor de laatste expressie in de code moeten eerst alle voorgaande expressies uitgevoerd worden, wat code zal geven die niet altijd even snel wordt uitgevoerd. Door gebruik te maken van **geneste if-structuren** kan dit deels voorkomen worden._\n",
    "\n",
    "## Geneste If-structuren\n",
    "\n",
    "Hernemen we bovenstaand voorbeeld:"
   ]
  },
  {
   "cell_type": "code",
   "execution_count": 16,
   "id": "0714785b-9839-42ae-bd9b-8a1fa1edf15c",
   "metadata": {},
   "outputs": [
    {
     "name": "stdout",
     "output_type": "stream",
     "text": [
      "Ga 6 stappen vooruit\n"
     ]
    }
   ],
   "source": [
    "geworpen = 6\n",
    "if (geworpen<4):\n",
    "    if (geworpen<2):\n",
    "        if (geworpen==1):\n",
    "            print(\"Ga 1 stap vooruit\")\n",
    "        else:\n",
    "            print(\"Dit is onmogelijk!\")\n",
    "    else:\n",
    "        if (geworpen<3):\n",
    "            print(\"Ga 2 stappen vooruit\")\n",
    "        else:\n",
    "            print(\"Ga 3 stappen vooruit\")\n",
    "else:\n",
    "    if (geworpen<6):\n",
    "        if (geworpen==4):\n",
    "            print(\"Ga 4 stappen vooruit\")\n",
    "        else:\n",
    "            print(\"Ga 5 stappen vooruit\")\n",
    "    else:\n",
    "        if (geworpen>6):\n",
    "            print(\"Je speelt vals, keer terug naar start!\")\n",
    "        else:\n",
    "            print(\"Ga 6 stappen vooruit\")"
   ]
  },
  {
   "cell_type": "markdown",
   "id": "8fe735f5-0076-420a-8849-5c444d892385",
   "metadata": {},
   "source": [
    "Bovenstaande manier van werken resulteert in code die __altijd__ drie expressies zal doorlopen, nooit minder en nooit meer. _In pure software op een PC zal dit voor dit voorbeeld niet het grote verschil maken, maar indien de code moet draaien op hardware in een tijdskritische applicatie is deze manier beter. Ik zou hier reeds kunnen verwijzen naar de [_big-O_ notatie](https://en.wikipedia.org/wiki/Big_O_notation) die naar _tijdscomplexiteit_ beter zal scoren voor de 2<sup>de</sup> implementatie dan voor de 1<sup>ste</sup> implementatie, maar hier wordt in het 6<sup>de</sup> jaar nog verder op ingegaan._"
   ]
  }
 ],
 "metadata": {
  "kernelspec": {
   "display_name": "Python 3 (ipykernel)",
   "language": "python",
   "name": "python3"
  },
  "language_info": {
   "codemirror_mode": {
    "name": "ipython",
    "version": 3
   },
   "file_extension": ".py",
   "mimetype": "text/x-python",
   "name": "python",
   "nbconvert_exporter": "python",
   "pygments_lexer": "ipython3",
   "version": "3.12.5"
  }
 },
 "nbformat": 4,
 "nbformat_minor": 5
}
