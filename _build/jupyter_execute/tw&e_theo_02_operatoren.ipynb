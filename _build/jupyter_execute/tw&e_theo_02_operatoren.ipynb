{
 "cells": [
  {
   "cell_type": "markdown",
   "id": "57fb6792-df8e-4d59-a64f-97889c6101f1",
   "metadata": {},
   "source": [
    "# Operatoren\n",
    "\n",
    "## Eenvoudige rekenkundige operatoren\n",
    "\n",
    "In vorige module is er reeds gesproken over een operator die afhankelijk van de omliggende code een andere werking zal hebben, namelijk de `+`. Indien we spreken over rekenkundige operatoren zal deze operator de rol van _sommeren_ op zich nemen. Naast de optelling bestaan eveneens nog andere eenvoudige rekenkundige operatoren:\n",
    "\n",
    "|Operator|Voorbeeld|Resultaat|\n",
    "|----|----|-----|\n",
    "|`+` optelling|5+2|7|\n",
    "|`-` verschil|5-2|3|\n",
    "|`*` product|5*2|10|\n",
    "|`/` deling|5/2|2.5|\n",
    "\n",
    "Het resultaat die we terugkrijgen hangt af van de literals/variabelen die we gebruiken bij de bewerking. Indien we gebruik maken van het type `int` langs beide kanten van de operator zal het resultaat eveneens van het type `int` zijn. Gebruiken we echter langs één kant van de operator een `float`, dan zal het resultaat eveneens een `float` zijn. Python doet dit omwille van volgende redenen:\n",
    "- minimaal geheugengebruik\n",
    "- maximale resolutie van het resultaat\n",
    "\n",
    "Enkel bij de deling van een `int` door een `int` zal het resultaat __altijd__ een `float` zijn (de reden hiervoor is mij niet duidelijk). Volgend voorbeeld verduidelijkt al het bovenstaande:"
   ]
  },
  {
   "cell_type": "code",
   "execution_count": 1,
   "id": "082ed611-9b34-4e09-8847-592a1f5a31a7",
   "metadata": {},
   "outputs": [
    {
     "name": "stdout",
     "output_type": "stream",
     "text": [
      "<class 'int'>\n",
      "<class 'float'>\n",
      "<class 'float'>\n",
      "<class 'float'>\n"
     ]
    }
   ],
   "source": [
    "print(type(5-2))\n",
    "print(type(5.0-2))\n",
    "print(type(6/3))\n",
    "print(type(6/4))"
   ]
  },
  {
   "cell_type": "markdown",
   "id": "99d8fb74-9a59-40ae-ad2a-c25b9b6882e5",
   "metadata": {},
   "source": [
    ":::{admonition} Tip\n",
    ":class: hint\n",
    "Heel dikwijls wordt ook de verkorte notatie met een operator gebruikt. Je kan dit door de operator voor de toekenninsoperator te plaatsen. Dit is vooral handig wanneer je een bewerking wil uitvoeren op de inhoud van een variabele, zoals de teller met een zekere waarde verhogen. \n",
    "\n",
    "`teller += 3` is identiek aan `teller = teller + 3`\n",
    ":::\n",
    "\n",
    "\n",
    "## Geheelgetal deling en restdeling\n",
    "\n",
    "In voorgaande paragraaf kon opgemerkt worden dat bij een deling er altijd een `float` als resultaat was. In sommige toepassingen hebben we echter nood aan gehele getallen (`int`) om iets nuttigs mee te doen. Stel als voorbeeld een groep leerlingen (21) en een aantal stukken fruit (123) die evenredig moeten verdeeld worden:"
   ]
  },
  {
   "cell_type": "code",
   "execution_count": 1,
   "id": "47644abe-587e-4b41-9cc4-7e68518d9863",
   "metadata": {},
   "outputs": [
    {
     "name": "stdout",
     "output_type": "stream",
     "text": [
      "Iedere leerling krijgt 5.857142857142857 stukken fruit\n"
     ]
    }
   ],
   "source": [
    "aantal_leerlingen = 21\n",
    "stukken_fruit = 123\n",
    "print(f\"Iedere leerling krijgt {stukken_fruit/aantal_leerlingen} stukken fruit\")"
   ]
  },
  {
   "cell_type": "markdown",
   "id": "90f67a45-431d-4b50-915d-aff12afe3ada",
   "metadata": {},
   "source": [
    "Je zou met dit antwoord tevreden kunnen zijn, en kunnen concluderen dat iedereen dus 5 stukken fruit kan krijgen om de evenredigheid te bewaren. Het programma kan deze conclusie echter niet maken, en omwille van deze reden bestaat er in de meeste programmeertalen de _geheelgetal deling_. De _geheelgetal deling_ kan bekomen worden door de operator `//`. Herhalen we het vorige voorbeeld:"
   ]
  },
  {
   "cell_type": "code",
   "execution_count": 2,
   "id": "2f49b228-462f-443a-805d-abc39e68e953",
   "metadata": {},
   "outputs": [
    {
     "name": "stdout",
     "output_type": "stream",
     "text": [
      "Iedere leerling krijgt 5 stukken fruit\n"
     ]
    }
   ],
   "source": [
    "print(f\"Iedere leerling krijgt {stukken_fruit//aantal_leerlingen} stukken fruit\")"
   ]
  },
  {
   "cell_type": "markdown",
   "id": "5d8efd35-d7a7-41ad-91c0-8acbbf61b1ff",
   "metadata": {},
   "source": [
    "Nu zouden we zelf kunnen achterhalen hoeveel stukken fruit er nog over blijven door het resultaat van de _geheelgetal deling_ te vermenigvuldigen met het aantal leerlingen, en vervolgens het verschil te maken met het aantal stukken fruit. Dit is echter eveneens opgenomen a.d.h.v. de modulo operator `%` of _restdeling_. Passen we dit toe op vorig voorbeeld:"
   ]
  },
  {
   "cell_type": "code",
   "execution_count": 3,
   "id": "beeb705f-91d8-4603-a5f6-00337d543390",
   "metadata": {},
   "outputs": [
    {
     "name": "stdout",
     "output_type": "stream",
     "text": [
      "Er blijven dan nog 18 stukken fruit over\n"
     ]
    }
   ],
   "source": [
    "print(f\"Er blijven dan nog {stukken_fruit%aantal_leerlingen} stukken fruit over\")"
   ]
  },
  {
   "cell_type": "markdown",
   "id": "dd707dc1-f6dd-4fc3-8325-1138ea424c03",
   "metadata": {},
   "source": [
    "Natuurlijk is het niet altijd nodig om zowel de _geheelgetal deling_ en de _restdeling_ samen te gebruiken. De _restdeling_ kunnen we bijvoorbeeld gebruiken om te controleren of een getal even of oneven is:\n",
    "- Bij rest 0 is het getal even\n",
    "- Bij rest 1 is het getal oneven\n",
    "\n",
    "De _geheelgetal deling_ laat dan toe te bepalen hoeveel uren en/of minuten er bijvoorbeeld in een gegeven aantal seconden zitten:"
   ]
  },
  {
   "cell_type": "code",
   "execution_count": 3,
   "id": "fa9cbdbe-9053-4ccd-b5f9-50c99d1ee2bc",
   "metadata": {},
   "outputs": [
    {
     "name": "stdout",
     "output_type": "stream",
     "text": [
      "Er zitten 1 uren in 6145 seconden\n",
      "Er zitten 102 minuten in 6145 seconden\n"
     ]
    }
   ],
   "source": [
    "aantal_seconden = 6145\n",
    "aantal_uren = aantal_seconden//3600\n",
    "aantal_minuten = aantal_seconden//60\n",
    "print(f\"Er zitten {aantal_uren} uren in {aantal_seconden} seconden\")\n",
    "print(f\"Er zitten {aantal_minuten} minuten in {aantal_seconden} seconden\")"
   ]
  },
  {
   "cell_type": "markdown",
   "id": "9e673e1a-4d3e-4ac6-bcfc-bfd635aabee5",
   "metadata": {},
   "source": [
    "_Indien je zowel het quotiënt als de rest nodig hebt kun je ook optioneel gebruik maken van de `divmod()` functie. Deze zal wel een `tuple` teruggeven met daarin beide waarden. De uitwerking van deze functie is terug te vinden bij de [uitleg over de tuple](project:#divmod-target)._"
   ]
  },
  {
   "cell_type": "markdown",
   "id": "3362367d-98db-4b51-a27c-ea2bfd6ce028",
   "metadata": {},
   "source": [
    "## Machtsverheffing\n",
    "\n",
    "De machtsverheffing is in Python ook mogelijk met de `**` operator. Afhankelijk van het grondtal en de exponent zal het antwoord van het type `int` of `float` zijn. _Hier maakt Python dan wel een onderscheid._"
   ]
  },
  {
   "cell_type": "code",
   "execution_count": 15,
   "id": "fcad5717-7c55-44ba-a016-8261b2a1a5b0",
   "metadata": {},
   "outputs": [
    {
     "name": "stdout",
     "output_type": "stream",
     "text": [
      "256\n",
      "17.0859375\n",
      "181.01933598375618\n"
     ]
    }
   ],
   "source": [
    "print(2**8)\n",
    "print(1.5**7)\n",
    "print(2**7.5)"
   ]
  },
  {
   "cell_type": "markdown",
   "id": "19510ce3-238d-415a-bf3a-62545c7d0e20",
   "metadata": {},
   "source": [
    "Op een zelfde manier kunnen we een vierkantswortel uitrekenen, aangezien een wortel een machtsverheffing is van een getal tot de macht $\\frac12$. Hier zal het resultaat, net als bij de deling, altijd van het type `float` zijn. Nemen we als voorbeeld de $\\sqrt9$:"
   ]
  },
  {
   "cell_type": "code",
   "execution_count": 16,
   "id": "e97a725b-e68c-4f45-99cc-38953bbc4146",
   "metadata": {},
   "outputs": [
    {
     "data": {
      "text/plain": [
       "3.0"
      ]
     },
     "execution_count": 16,
     "metadata": {},
     "output_type": "execute_result"
    }
   ],
   "source": [
    "9**(1/2)"
   ]
  },
  {
   "cell_type": "markdown",
   "id": "cffd5d25-071e-4639-bbbb-cc9fad1a5ac2",
   "metadata": {},
   "source": [
    "De n<sup>de</sup> machtswortel van een getal is eveens op dezelfde manier mogelijk. Nemen we als voorbeeld $\\sqrt[3]125$:"
   ]
  },
  {
   "cell_type": "code",
   "execution_count": 20,
   "id": "6c89b3d2-d0fc-4894-9b25-95839cacfb23",
   "metadata": {},
   "outputs": [
    {
     "data": {
      "text/plain": [
       "5.0"
      ]
     },
     "execution_count": 20,
     "metadata": {},
     "output_type": "execute_result"
    }
   ],
   "source": [
    "125**(1/3)"
   ]
  },
  {
   "cell_type": "markdown",
   "id": "ccf2b330-26e0-4a45-b975-0ae2324c31aa",
   "metadata": {},
   "source": [
    "## Prioriteitsregels"
   ]
  },
  {
   "cell_type": "markdown",
   "id": "8e0f3ef5-905f-402e-9b9b-9bf9dda5af06",
   "metadata": {},
   "source": [
    "Wanneer python berekeningen maakt met drie (of meer) getallen betekent dit onder de motorkap minstens twee bewerkingen. Hiervoor zijn prioriteitsregels nodig. Deze kunnen onthouden worden als __PEDMAS__, waarbij:\n",
    "- **P**arentheses of haakjes\n",
    "- **E**xponentiation of machtsverheffing\n",
    "- **D**ivision of deling\n",
    "- **M**ultiplication of vermenigvuldiging\n",
    "- **A**ddition of optelling\n",
    "- **S**ubstraction of verschil\n",
    "\n",
    "De deling en vermenigvuldiging hebben eenzelfde prioriteit, eveneens zoals de optelling en het verschil.\n",
    "Bij gelijkwaardige bewerkingen geldt steeds van links naar rechts. Als voorbeeld is het resultaat van onderstaande bewerking 12 en niet 2:\n"
   ]
  },
  {
   "cell_type": "code",
   "execution_count": 21,
   "id": "d1643537-c69d-43e1-89a6-f69680c642dc",
   "metadata": {},
   "outputs": [
    {
     "name": "stdout",
     "output_type": "stream",
     "text": [
      "12\n"
     ]
    }
   ],
   "source": [
    "print(13-6+5)"
   ]
  },
  {
   "cell_type": "markdown",
   "id": "409b583b-791f-4bf8-a360-b8955b0111bf",
   "metadata": {},
   "source": [
    "Een uitzondering op deze regel is de opeenvolging van machten die van rechts naar links gaat. Als voorbeeld heb je $2^{3^{2}}$, wat zal uitgevoerd worden als $2^9$, wat uiteindelijk $512$ is."
   ]
  },
  {
   "cell_type": "code",
   "execution_count": 22,
   "id": "74b9bafc-4660-40fe-a980-528e69b784f8",
   "metadata": {},
   "outputs": [
    {
     "name": "stdout",
     "output_type": "stream",
     "text": [
      "512\n"
     ]
    }
   ],
   "source": [
    "print(2**3**2)"
   ]
  },
  {
   "cell_type": "markdown",
   "id": "cb7a2544-777e-49cf-9ba2-a90b69b45317",
   "metadata": {},
   "source": [
    ":::{admonition} Opgelet\n",
    ":class: warning\n",
    "Bij twijfel gebruik je het best altijd haken, aangezien deze de hoogste prioriteit kennen.\n",
    ":::"
   ]
  },
  {
   "cell_type": "markdown",
   "id": "20ed7973-a791-4230-9553-f5445b990515",
   "metadata": {},
   "source": [
    "## Ingebouwde functies\n",
    "\n",
    "Bovenstaande operatoren zijn de basis van Python om wiskundige bewerkingen mee uit te voeren. Er zijn echter tal van ingebouwde functies (die onder de motorkap bovenstaande operatoren gebruiken) in Python die eveneens handig zijn in gebruik, en waarvan hier als extra er enkele vermeld worden. _in totaal zijn er een 70-tal functies ingebouwd in Python. Een volledige lijst vind je [hier](https://docs.python.org/3/library/functions.html) terug. Een groot deel van deze funcies zullen verder in deze cursus nog aan bod komen._\n",
    "\n",
    "### abs(x)\n",
    "\n",
    "De functie `abs(x)` geeft de absolute waarde van een gegeven getalwaarde `x` terug."
   ]
  },
  {
   "cell_type": "code",
   "execution_count": 6,
   "id": "2cd89ba4-de3e-4f85-b1d2-9ba7e3db5377",
   "metadata": {},
   "outputs": [
    {
     "name": "stdout",
     "output_type": "stream",
     "text": [
      "4\n",
      "4\n",
      "5.0\n"
     ]
    }
   ],
   "source": [
    "print(abs(4))\n",
    "print(abs(-4))\n",
    "print(abs(3+4j))"
   ]
  },
  {
   "cell_type": "markdown",
   "id": "8d4c42fa-297e-4e0e-bed6-d77a7ad7e609",
   "metadata": {},
   "source": [
    "De functie `abs(x)` geeft voor reële getallen de abosulte waarde weer, en voor complexe getallen de modulus. _Voor complexe getallen wordt aangeraden gebruik te maken van een externe bibliotheek voor Python, genaamd [NumPy](https://numpy.org/doc/stable/reference/routines.math.html) (al kun je alle berekeningen eveneens doen zonder de bibliotheek). Deze bibliotheek zal in het 6<sup>de</sup> gebruikt worden om numerieke methoden toe te lichten._\n",
    "\n",
    "### round(x,y)\n",
    "\n",
    "De functie `round(x,y)` rond het getal `x` af tot op het opgegeven aantal cijfers `y` na de komma."
   ]
  },
  {
   "cell_type": "code",
   "execution_count": 2,
   "id": "43d5f55a-9544-4ee0-b74c-4c6c4e0d400f",
   "metadata": {},
   "outputs": [
    {
     "name": "stdout",
     "output_type": "stream",
     "text": [
      "5.0\n",
      "5.1\n",
      "5.12\n"
     ]
    }
   ],
   "source": [
    "print(round(5.1247,0))\n",
    "print(round(5.1247,1))\n",
    "print(round(5.1247,2))"
   ]
  },
  {
   "cell_type": "markdown",
   "id": "e94a1c1e-a2b2-448c-9033-6417ee9cbc6e",
   "metadata": {},
   "source": [
    "Hier worden de standaard afrondingsregels gebruikt. Indien je naar boven of onder wil afronden bestaan ook de methodes `floor(x)` en `ceil(x)`, maar deze behoren niet tot de standaard functies van Python. _Via de `math` bibliotheek kunnen deze wel gebruikt worden. Hieronder reeds een voorbeeld van hoe dit moet. Meer diepgang over bibliotheken komt later nog aan bod in deze cursus._"
   ]
  },
  {
   "cell_type": "code",
   "execution_count": 3,
   "id": "76a36e6a-f59d-4f41-85d2-ac3b205f8a1a",
   "metadata": {},
   "outputs": [
    {
     "name": "stdout",
     "output_type": "stream",
     "text": [
      "5\n",
      "6\n"
     ]
    }
   ],
   "source": [
    "import math\n",
    "print(math.floor(5.1247))\n",
    "print(math.ceil(5.1247))"
   ]
  }
 ],
 "metadata": {
  "kernelspec": {
   "display_name": "Python 3 (ipykernel)",
   "language": "python",
   "name": "python3"
  },
  "language_info": {
   "codemirror_mode": {
    "name": "ipython",
    "version": 3
   },
   "file_extension": ".py",
   "mimetype": "text/x-python",
   "name": "python",
   "nbconvert_exporter": "python",
   "pygments_lexer": "ipython3",
   "version": "3.12.5"
  }
 },
 "nbformat": 4,
 "nbformat_minor": 5
}