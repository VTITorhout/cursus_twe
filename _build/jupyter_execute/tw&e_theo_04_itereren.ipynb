{
 "cells": [
  {
   "cell_type": "markdown",
   "id": "c59a459c-c814-4467-acde-640f7935895d",
   "metadata": {},
   "source": [
    "# Itereerbare objecten\n",
    "\n",
    "Bij het gebruik van data hebben we nood aan een ordentelijke manier om deze op te slaan. Indien we zouden beschikken over een 1000-tal meetgegevens, dan spreekt het voor zich dat we hier geen 1000 variabelen voor gaan instantiëren. Een verzameling van deze meetgegevens die we gaan opslaan in één variabele dringt zich dan ook aan. Binnen Python bestaan er verschillende manieren om dit te bewerkstellingen. We noemen deze dan de _itereerbare objecten_. \n",
    "\n",
    "## Strings\n",
    "\n",
    "We hebben wel al gezien hoe we veel karakters kunnen bijhouden, namelijk in een `string`. Een string is op zich dus ook een verzameling van veel karakters. \n",
    "\n",
    "### Indexering\n",
    "\n",
    "Of we nu werken met strings, lijsten of tuples, bij elk van deze verzamelingen zullen we te maken hebben met indexeringen. In de verzameling kunnen we ieder element bereiken door gebruik te maken van de **juiste index**, wat niet anders is dan op te geven in het **hoeveelste element** wij geïnteresseerd zijn. Aangezien wij op een computersysteem zitten is er één addertje onder het gras. **Er wordt altijd geteld vanaf 0!**\n",
    "\n",
    "Stel dat we uitgaan van de string `VTI-Torhout`, dan zien we meteen dat deze string niets anders is dan een verzameling van 11 karakters. In de verzameling hebben we vervolgens een karakter met index 0, die overeenstemt met de eerste letter van de string, namelijk de `V`. Het tweede karakter, de letter `T`, heeft dan als index 1 enzoverder.\n",
    "\n",
    "|Verzameling|V|T|I|-|T|o|r|h|o|u|t|\n",
    "|---:|:---:|:---:|:---:|:---:|:---:|:---:|:---:|:---:|:---:|:---:|:---:|\n",
    "|index|0|1|2|3|4|5|6|7|8|9|10|\n",
    "||-11|-10|-9|-8|-7|-6|-5|-4|-3|-2|-1|\n",
    "\n",
    "In bovenstaand voorbeeld is ook een tweede rij met indices toegevoegd, maar dan met negatieve getallen. Een negatief getal laat toe de verzameling van langs achteren te benaderen.\n",
    "\n",
    ":::{admonition} Opgelet\n",
    ":class: caution\n",
    "Index 0 stemt overeen met benaderen van langs voor en betreft de eerste positie. Het eerste negatieve getal dat bestaat is -1 en stemt dusdanig overeen met het laatste karakter van de string.\n",
    ":::\n",
    "\n",
    "Als een string is opgeslagen in een variabele, dan kun je de individuele letters van de string benaderen via de variabele naam en de index van de gevraagde letter tussen vierkante haken `[]` rechts ernaast."
   ]
  },
  {
   "cell_type": "code",
   "execution_count": 1,
   "id": "2851804d-770d-4621-859c-84bce3d0f384",
   "metadata": {},
   "outputs": [
    {
     "name": "stdout",
     "output_type": "stream",
     "text": [
      "De 7de letter bedraagt \"r\"\n"
     ]
    }
   ],
   "source": [
    "myStr = \"VTI-Torhout\"\n",
    "print(f\"De 7de letter bedraagt \\\"{myStr[6]}\\\"\")"
   ]
  },
  {
   "cell_type": "markdown",
   "id": "faaa91dd-31f8-422c-b05b-4645192208f0",
   "metadata": {},
   "source": [
    "(slicing-target)=\n",
    "Naast enkele indices om letters in een string te benaderen, kun je ook substrings van een string benaderen (we noemen dit ook _slicing_) door twee getallen tussen vierkante haken te zetten met een dubbele punt `:` ertussen.\n",
    "- De eerste van deze getallen is de index waar de substring start.\n",
    "- Het tweede getal is waar de substring eindigt.\n",
    "- De substring is exclusief de letter die hoort bij de tweede index.\n",
    "- Door het linkse getal weg te laten geef je aan dat de substring begint bij de start van de string (dus bij index 0).\n",
    "- Door het rechtergetal weg te laten geef je aan dat de substring eindigt met het laatste teken van de string (inclusief dit laatste teken)."
   ]
  },
  {
   "cell_type": "code",
   "execution_count": 2,
   "id": "9cfb6f6c-5550-4971-9270-5874a84b0d6a",
   "metadata": {},
   "outputs": [
    {
     "name": "stdout",
     "output_type": "stream",
     "text": [
      "VTI\n",
      "VTI\n",
      "Torhout\n",
      "Torhout\n"
     ]
    }
   ],
   "source": [
    "print(myStr[0:3])\n",
    "print(myStr[:3])\n",
    "print(myStr[4:11])\n",
    "print(myStr[4:])"
   ]
  },
  {
   "cell_type": "markdown",
   "id": "7be3cdc5-4aec-444d-bc97-738d431a4d44",
   "metadata": {},
   "source": [
    "Optioneel kan er nog een 3de waarde opgegeven worden bij het _slicen_, namelijk de _step_ waarde. Stel dat we van een string alle $k^{3n}$ karakters willen:"
   ]
  },
  {
   "cell_type": "code",
   "execution_count": 3,
   "id": "3f790109-c75d-4b27-879d-f5512fa5fcc7",
   "metadata": {},
   "outputs": [
    {
     "name": "stdout",
     "output_type": "stream",
     "text": [
      "V-ru\n"
     ]
    }
   ],
   "source": [
    "print(myStr[::3])"
   ]
  },
  {
   "cell_type": "markdown",
   "id": "e9d39745-480f-471e-95a9-4374f117eca8",
   "metadata": {},
   "source": [
    "Negatieve waarde voor de _step_ zijn ook toegelaten. Volgend voorbeeld geeft de string in omgekeerde volgorde:"
   ]
  },
  {
   "cell_type": "code",
   "execution_count": 4,
   "id": "143cf199-3d31-46aa-b2ab-955ace0de9b9",
   "metadata": {},
   "outputs": [
    {
     "name": "stdout",
     "output_type": "stream",
     "text": [
      "tuohroT-ITV\n"
     ]
    }
   ],
   "source": [
    "print(myStr[::-1])"
   ]
  },
  {
   "cell_type": "markdown",
   "id": "476aa10d-8619-4ab2-91d2-1db8a086c53f",
   "metadata": {},
   "source": [
    "### Methodes\n",
    "\n",
    "Indien wij controleren wat het type variabele is van `myStr` krijgen wij het volgende:"
   ]
  },
  {
   "cell_type": "code",
   "execution_count": 5,
   "id": "8e0f4a11-eea8-459d-9849-8ec61edcf92e",
   "metadata": {},
   "outputs": [
    {
     "name": "stdout",
     "output_type": "stream",
     "text": [
      "<class 'str'>\n"
     ]
    }
   ],
   "source": [
    "print(type(myStr))"
   ]
  },
  {
   "cell_type": "markdown",
   "id": "f6e0f4c5-7bc9-4edb-b081-b8f29da7d972",
   "metadata": {},
   "source": [
    "We kunnen hier opmerken dat dit een _klasse_ betreft. Op een klasse kunnen wij meestal verschillende methoden toepassen. Je kan deze aanroepen via de `.` operator die je laat volgen op een _object_ van de desbetreffende klasse. In ons voorbeeld kan dit via `myStr.<methode_naam>`. Voor de klasse `str` zijn volgende methoden beschikbaar:\n",
    "\n",
    "1. `lower()`:  Zet een string om in kleine letters (de haakjes verwachten geen argument, maar methodes hebben altijd haakjes nodig om uitgevoerd te worden). Het spreekt voor zich dat er ook een `upper()` is die alles in hoofdletters zet.\n",
    "2. `index(<substring>)`: Bepaalt op welke plaats een substring voor het eerst start in een string. Als optionele argumenten kan je twee getallen meegeven die bepalen van waar tot waar gezocht moet worden. Zie hiervoor _[slicing](#slicing-target)_.\n",
    "3. `strip()`: Verwijdert spaties aan het begin en einde van een string, inclusief eventuele _newline_ tekens en andere tekens die als spaties gezien kunnen worden. Als je iets anders dan spaties wilt verwijderen, kun je als parameter een string meegeven die bestaat uit alle te verwijderen tekens. Deze worden _gestript_ aan het begin en einde van de string totdat een karakter voorkomt die niet in de meegegeven string staat.\n",
    "4. `split()`: Splitst een string in delen. Hier zou je een argument kunnen invoeren (namelijk het scheidingsteken of delimiter), maar standaard wordt er gesplitst op spaties. Het resultaat van deze opsplitsing is een [lijst](#list-target) van woorden.\n",
    "5. `join()`: De tegenhanger van `split()`. `join()` plakt een lijst van woorden aaneen tot een string, waarbij de woorden in de string van elkaar gescheiden zijn middels een specifieke separator, namelijk de string waarop de `join()` methode wordt toegepast. De parameter die je met de methode meegeeft betreft een lijst van woorden. De retourwaarde is de resulterende string.\n",
    "6. `replace(<substring 1>,<substring 2>)`: Vervangt alle instanties van substring 1 in een string door substring 2. Optioneel kan een derde, numerieke parameter meegegeven worden die aangeeft hoe vaak een vervanging moet plaatsvinden.\n"
   ]
  },
  {
   "cell_type": "code",
   "execution_count": 6,
   "id": "29ca742b-9462-4145-be13-566002bbde3c",
   "metadata": {},
   "outputs": [
    {
     "name": "stdout",
     "output_type": "stream",
     "text": [
      "vti-torhout\n",
      "VTI-TORHOUT\n",
      "4\n",
      "orhout\n",
      "['VTI', 'Torhout']\n",
      "VTI Torhout\n",
      "VTI-Torhouk\n"
     ]
    }
   ],
   "source": [
    "print(myStr.lower())\n",
    "print(myStr.upper())\n",
    "print(myStr.index(\"Torhout\"))\n",
    "print(myStr.strip(\"VTI-\"))\n",
    "myList = myStr.split('-')\n",
    "print(myList)\n",
    "print(\" \".join(myList))\n",
    "print(myStr.replace('t','k'))"
   ]
  },
  {
   "cell_type": "markdown",
   "id": "ed5a663d-014c-4e73-98b0-59b3cb9c0555",
   "metadata": {},
   "source": [
    "(list-target)=\n",
    "## Lijsten en tuples\n",
    "\n",
    "### Inleiding\n",
    "\n",
    "Omdat ze zo sterk verwant zijn behandelen we _tuples_ en _lijsten_ samen. Lijsten en tuples zijn itereerbare objecten die dus een groep van elementen bevatten. Deze groep moet niet per se bestaan uit dezelfde datatypes. Het vormelijk onderscheid tussen een lijst en een tuple wordt gemaakt door de soort haakjes bij het invoeren:\n",
    "* Ronde haakjes `(<items>)` dienen voor een _tuple_\n",
    "* Vierkante haakjes `[<items>]` dienen voor een _list_\n",
    "\n",
    ":::{admonition} Opgelet\n",
    ":class: caution\n",
    "Achter de schermen worden deze door Python anders behandeld. **Tuples** zijn **onveranderlijk** terwijl lijsten op elk ogenblik kunnen gewijzigd worden in het programma. Werken met tuples gaat daarom sneller dan met lijsten (minder processor intensief).\n",
    ":::"
   ]
  },
  {
   "cell_type": "code",
   "execution_count": 7,
   "id": "7d0c38ca-cd11-44b7-ba4d-87f0bd007a0d",
   "metadata": {},
   "outputs": [],
   "source": [
    "myTuple = (\"string\", 123, True)\n",
    "myList = [\"string\", 123, True]"
   ]
  },
  {
   "cell_type": "markdown",
   "id": "480b28c8-0b99-408f-90c6-36846dbd9ace",
   "metadata": {},
   "source": [
    "### Indexering\n",
    "\n",
    "Je gebruikt elementen uit een lijst of een tuple precies zoals je dat doet met een string. Door het element te indexeren. De indices werken dan ook op dezelfde manier als bij strings. _Slicing_ is hier eveneens mogelijk."
   ]
  },
  {
   "cell_type": "code",
   "execution_count": 8,
   "id": "fed15cb8-51b5-4906-b980-e26213ac611d",
   "metadata": {},
   "outputs": [
    {
     "name": "stdout",
     "output_type": "stream",
     "text": [
      "123\n",
      "['string', 123]\n"
     ]
    }
   ],
   "source": [
    "print(myTuple[1])\n",
    "print(myList[:2])"
   ]
  },
  {
   "cell_type": "markdown",
   "id": "f1e11415-2d63-4889-bed3-93dff5452a8d",
   "metadata": {},
   "source": [
    "Merk op dat we bij een list ook terug heel eenvoudig de waarden kunnen gaan aanpassen. Bij een tuple lukt dit niet:"
   ]
  },
  {
   "cell_type": "code",
   "execution_count": 9,
   "id": "42986105-f511-4fe2-ba1a-a8cf7a5b8554",
   "metadata": {},
   "outputs": [
    {
     "ename": "TypeError",
     "evalue": "'tuple' object does not support item assignment",
     "output_type": "error",
     "traceback": [
      "\u001b[1;31m---------------------------------------------------------------------------\u001b[0m",
      "\u001b[1;31mTypeError\u001b[0m                                 Traceback (most recent call last)",
      "Cell \u001b[1;32mIn[9], line 2\u001b[0m\n\u001b[0;32m      1\u001b[0m myList[\u001b[38;5;241m2\u001b[39m] \u001b[38;5;241m=\u001b[39m \u001b[38;5;28;01mFalse\u001b[39;00m\n\u001b[1;32m----> 2\u001b[0m \u001b[43mmyTuple\u001b[49m\u001b[43m[\u001b[49m\u001b[38;5;241;43m2\u001b[39;49m\u001b[43m]\u001b[49m \u001b[38;5;241m=\u001b[39m \u001b[38;5;28;01mFalse\u001b[39;00m\n",
      "\u001b[1;31mTypeError\u001b[0m: 'tuple' object does not support item assignment"
     ]
    }
   ],
   "source": [
    "myList[2] = False\n",
    "myTuple[2] = False"
   ]
  },
  {
   "cell_type": "markdown",
   "id": "9011c456-20b3-4746-b39a-b114a581fecb",
   "metadata": {},
   "source": [
    "(divmod-target)=\n",
    "* Als je een functie/methode hebt die meerdere waarden teruggeeft, zal deze altijd de verschillende waarden in een tuple plaatsen. _Dit is reeds kort aangehaald bij de geheel getal delingen en de modulo operator. De functie `divmod()` geeft hierbij het resultaat van de geheel getal deling als eerste element terug en het resultaat van de modulo als tweede element van de tuple._\n",
    "* Aan een lijst kun je ook zaken toevoegen via de _concatentatie_ operator. _Opgelet met itereerbare items. Deze zullen als aparte elementen worden toegevoegd. Bij het toevoegen van een string zal ieder karakter apart worden toegevoegd!_"
   ]
  },
  {
   "cell_type": "code",
   "execution_count": 10,
   "id": "0e57ae26-778a-46b2-957a-8a5953aff73c",
   "metadata": {},
   "outputs": [
    {
     "name": "stdout",
     "output_type": "stream",
     "text": [
      "(2, 1)\n",
      "['string', 123, False, 'Sint-Aloysius', 'S', 'i', 'n', 't', '-', 'A', 'l', 'o', 'y', 's', 'i', 'u', 's']\n"
     ]
    }
   ],
   "source": [
    "print(divmod(5,2)) #Deel 5 door 2\n",
    "myList += [\"Sint-Aloysius\"] #Voeg een nieuwe element toe\n",
    "myList += \"Sint-Aloysius\" #Voeg een itereerbaar item toe\n",
    "print(myList)"
   ]
  },
  {
   "cell_type": "markdown",
   "id": "8097a176-ac5b-45f2-b890-16907f6b1c01",
   "metadata": {},
   "source": [
    "(printlist-target)=\n",
    ":::{admonition} Tip\n",
    ":class: hint\n",
    "In sommige oefeningen op Dodona wordt er soms gevraagd om de inhoud van een lijst weer te geven, maar dan zonder de vierkante haken die er rond staan. Dit is ingebouwd in de `print()` functie, en kan bereikt worden door de lijst te laten voorafgaan door een asteriks (`*`). Standaard wordt vervolgens tussen de elementen van de lijst een spatie geplaatst. Wil je echter een ander scheidingsteken tussen de elementen, dan kun je opteren voor de extra parameter `sep='<scheidingsteken>'`. Onderstaand voorbeeld demonstreert dit. _Je kan/mag dit gebruiken, maar weet dat je dit zelf kan implementeren a.d.h.v. herhalingen._\n",
    ":::\n"
   ]
  },
  {
   "cell_type": "code",
   "execution_count": 11,
   "id": "ed377e3b-67fc-4f1b-9ecc-dc515d0da000",
   "metadata": {},
   "outputs": [
    {
     "name": "stdout",
     "output_type": "stream",
     "text": [
      "string_-_123_-_False\n"
     ]
    }
   ],
   "source": [
    "print(*myList[:3],sep=\"_-_\")"
   ]
  },
  {
   "cell_type": "markdown",
   "id": "b2f79cba-5b23-4788-86fd-88080892d3bf",
   "metadata": {},
   "source": [
    "### Functies\n",
    "\n",
    "Voor tuples en lijsten zijn er enkele functies beschikbaar die als parameter een tuple/lijst aanvaarden. \n",
    "1. `len(<object>)` geeft het aantal elementen in de lijst/tuple.\n",
    "2. `max(<object>)` geeft het maximum van een lijst/tuple van getallen. Eveneens bestaat hier de functie `min(<object>)` die dan natuurlijk het minimum geeft.\n",
    "3. `sum(<object>)` berekent de som van een lijst/tuple van getallen. _Merk op dat dit een functie is die je eveneens zelf eenvoudig kan gaan opstellen aan de hand van een herhaling._\n",
    "\n",
    ":::{admonition} Opgelet\n",
    ":class: caution\n",
    "Alvorens je deze functies kan gebruiken, moet je lijst natuurlijk wel gedefinieerd zijn! Je kan altijd een lege lijst gaan aanmaken door niets binnen de haakjes `[]` te plaatsen. \n",
    ":::\n",
    "\n",
    "### Methodes\n",
    "\n",
    ":::{admonition} Opmerking\n",
    ":class: tip\n",
    "De hieronder opgesomde methoden zijn enkel van toepassing op lijsten (tenzij anders vermeld). De reden hiervoor is dat enkel lijsten aanpasbaar zijn, en veel van deze methoden een wijziging aan de lijst doorvoeren. \n",
    ":::\n",
    "\n",
    "1. `<lijst>.append(<object>)` voegt een element toe aan het einde van de lijst. Dit hoeft geen lijst te zijn. Indien je hier een lijst toevoegt zal er in de lijst een extra lijst worden opgenomen (één niveau dieper). Indien je een lijst wil toevoegen aan het einde van de lijst gebruik je de methode `extend` (zie hieronder)."
   ]
  },
  {
   "cell_type": "code",
   "execution_count": 12,
   "id": "aba5ca40-5c25-4f93-b0a8-acd7178e1ad8",
   "metadata": {},
   "outputs": [
    {
     "name": "stdout",
     "output_type": "stream",
     "text": [
      "['koen', 39, 'TW&E', ['test', 123]]\n"
     ]
    }
   ],
   "source": [
    "myList = [\"koen\",39]\n",
    "myList.append(\"TW&E\")\n",
    "myList.append([\"test\",123])\n",
    "print(myList)"
   ]
  },
  {
   "cell_type": "markdown",
   "id": "bcdc692f-b95d-45f6-8d90-865c56b8039f",
   "metadata": {},
   "source": [
    "2. `<lijst1>.extend(<lijst2>)` maakt een lijst langer door alle elementen van een tweede lijst aan het einde van de eerste lijst toe te voegen. Hier wordt de inhoud van de tweede lijst object per object _ge-append_ aan de eerste lijst. _Op de achtergrond wordt doorheen de lijst, die itereerbaar is, gelopen._\n",
    "3. `<lijst>.insert(<positie>,<object>)` voegt een object toe op een gekozen positie binnen de lijst waarop de methode wordt toegepast.\n",
    "4. `<lijst>.remove(<object>)` laat je een object van de lijst verwijderen. Het object dat je wil verwijderen geef je mee als argument. Als dit element meerdere keren voorkomt in de lijst, wordt de eerste instantie (die met de laagste index) verwijderd. Als je een element probeert te verwijderen dat niet voorkomt in de lijst volgt er een runtime error.\n",
    "5. `<lijst>.pop(<positie>)` verwijdert een object op een specifieke positie. Als geen argument wordt meegegeven, wordt het laatste object van de lijst verwijderd. Als een positie wordt meegegeven die buiten het bereik van de lijst valt, volgt een runtime error. _De methode retourneert het verwijderde object._\n",
    "6. `<lijst>.index(<object>)` retourneert de index van de eerste instantie in een lijst/tuple van het object dat als argument aan de methode is meegegeven. Een runtime error volgt als het object niet voorkomt in de lijst/tuple.\n",
    "7. `<lijst>.count(<object>)` retourneert een integer die aangeeft hoe vaak het object dat als argument is meegegeven voorkomt in de lijst/tuple. _Opgelet dat je deze methode niet verwart met de functie `len(<lijst>/<tuple>)!`_\n",
    "8. `<lijst>.sort()` sorteert de elementen van de lijst, van laag naar hoog. Als de objecten strings zijn, betreft het een alfabetische sortering. Als de objecten getallen zijn, betreft het een numerieke sortering. Om van hoog naar laag te sorteren, kun je een argument `reverse = True` meegeven of de methode `<lijst>.reverse()` gebruiken. _Het sorteren zelf is iets die vrij complex is. Hoe zal er gesorteerd worden wanneer de lijst verschillende data types van objecten bevat? Het is soms beter dit te doen met een zelf geschreven functie a.d.h.v. [`key` en `lambda` functie](https://blogboard.io/blog/knowledge/python-sorted-lambda/), gecombineerd met de functie `sorted(<object>).`_ "
   ]
  },
  {
   "cell_type": "code",
   "execution_count": 13,
   "id": "5a984b6d-8a83-402c-b7ef-354d358ff975",
   "metadata": {},
   "outputs": [
    {
     "name": "stdout",
     "output_type": "stream",
     "text": [
      "['koen', 39, 'TW&E', ['test', 123]]\n",
      "['test', 123]\n",
      "['koen', 39, 'TW&E']\n",
      "['koen', 39, 'TW&E', 'test', 123]\n",
      "['koen', 'geeraert', 39, 'TW&E', 'test', 123]\n",
      "['koen', 'geeraert', 39, 'TW&E', 123]\n"
     ]
    }
   ],
   "source": [
    "print(myList)\n",
    "print(myList.pop(3)) #verwijder de lijst in de lijst, de methode retourneert wat verwijderd is\n",
    "print(myList)\n",
    "myList.extend([\"test\",123])\n",
    "print(myList)\n",
    "myList.insert(1,\"geeraert\")\n",
    "print(myList)\n",
    "myList.remove(\"test\")\n",
    "print(myList)"
   ]
  },
  {
   "cell_type": "markdown",
   "id": "043125a1-6006-4cef-93e5-7c0cb80dc1ec",
   "metadata": {},
   "source": [
    "## Dictionaries\n",
    "\n",
    "### Inleiding\n",
    "\n",
    "Strings, tuples en lists zijn geordende data structuren, wat inhoudt dat ze via indices benaderd kunnen worden. Maar niet alle data verzamelingen hebben een natuurlijke manier van numeriek geordend te zijn en deze kunnen dus niet (gemakkelijk) geïndiceerd worden. Python biedt zogenaamde _dictionaries_ aan als een manier om ongeordende data te structureren.\n",
    "\n",
    "Een dictionary is een ongeordende data structuur die een verzameling objecten bevat. Een dictionary is eigenlijk een verzameling van _keys_ met geassocieerde waardes. Om een object te vinden, moet je de _key_ van het object kennen. Ieder onveranderbaar data type (strings, tuples, ...) mag gebruikt worden als _key_. Een veelgebruikt data type dat als _key_ wordt ingezet is de string, wat natuurlijk te maken heeft met de leesbaarheid die hierdoor bevordert wordt.\n",
    "\n",
    "### Gebruik\n",
    "\n",
    "Dictionaries creëer je middels accolades `{}`, vergelijkbaar met hoe je lists creëert met vierkante haken en tuples met ronde haken. Je kan een dictionary met inhoud creëren door ieder element dat je erin wilt hebben tussen de accolades te plaatsen, met als syntax `<key>:<value>` en met komma’s tussen de elementen. _Men spreekt dan ook dikwijls over **KV-pairs**, waarmee natuurlijk **K**ey en **V**alue bedoeld wordt._\n",
    "\n",
    "Volgend voorbeeld verduidelijkt dit:"
   ]
  },
  {
   "cell_type": "code",
   "execution_count": 14,
   "id": "fe8a0a86-59c6-4b32-be7c-c61bd224ead8",
   "metadata": {},
   "outputs": [
    {
     "name": "stdout",
     "output_type": "stream",
     "text": [
      "{'5TW&E': 10, '6TW&E': 8}\n"
     ]
    }
   ],
   "source": [
    "myDict = {\"5TW&E\":10, \"6TW&E\":8}\n",
    "print(myDict)"
   ]
  },
  {
   "cell_type": "markdown",
   "id": "4e065049-ecfe-4d70-b236-f0f3f65b5356",
   "metadata": {},
   "source": [
    "Om een waarde te vinden die hoort bij een specifieke sleutel, gebruik je dezelfde syntax als voor een list, behalve dat waar je bij een list de index schrijft, je bij een dictionary de gezochte key schrijft."
   ]
  },
  {
   "cell_type": "code",
   "execution_count": 15,
   "id": "0eb0d2e9-70cd-4c11-8755-464136e7c1da",
   "metadata": {},
   "outputs": [
    {
     "name": "stdout",
     "output_type": "stream",
     "text": [
      "8\n"
     ]
    }
   ],
   "source": [
    "print(myDict[\"6TW&E\"])"
   ]
  },
  {
   "cell_type": "markdown",
   "id": "e6b98e3d-e7a8-4b5b-a5d2-6e7336725f6f",
   "metadata": {},
   "source": [
    ":::{admonition} Opgelet\n",
    ":class: danger\n",
    "Als je een dictionary element probeert te benaderen met een key die niet voorkomt in de dictionary, krijg je een runtime error. Het is hier beter gebruik te maken van de methode `get()` die overweg kan met onbestaande keys. _In de toekomst zullen we zien dat we eveneens errors die mogelijk optreden kunnen opvangen met een `try` en `except`._\n",
    ":::\n",
    "\n",
    ":::{admonition} Tip\n",
    ":class: tip\n",
    "Als je een nieuw element wilt toevoegen, kun je dat eenvoudigweg doen door een waarde toe te kennen aan een dictionary element met de nieuwe key. Op dezelfde wijze kun je een bestaand dictionary element overschrijven.\n",
    ":::"
   ]
  },
  {
   "cell_type": "markdown",
   "id": "1771cdc3-c677-41a7-9061-0b9b2d5654de",
   "metadata": {},
   "source": [
    "Bijvoorbeeld, om klas \"5ICW\" toe te voegen aan de dictionary, doe je het volgende:"
   ]
  },
  {
   "cell_type": "code",
   "execution_count": 16,
   "id": "a67b3dec-5289-446c-8867-c349f6497b75",
   "metadata": {},
   "outputs": [
    {
     "name": "stdout",
     "output_type": "stream",
     "text": [
      "{'5TW&E': 10, '6TW&E': 8, '5ICW': 7}\n"
     ]
    }
   ],
   "source": [
    "myDict[\"5ICW\"] = 7\n",
    "print(myDict)"
   ]
  },
  {
   "cell_type": "markdown",
   "id": "d9e7ee16-76cc-48cd-9122-f83ac0faf478",
   "metadata": {},
   "source": [
    "Om een element te verwijderen uit een dictionary gebruik je het gereserveerde woord `del`. _Dit is geen functie, noch een methode, maar één van de ingebakken commando's van Python._"
   ]
  },
  {
   "cell_type": "code",
   "execution_count": 17,
   "id": "ea0398ad-4915-4bd3-9d98-91320473ee62",
   "metadata": {},
   "outputs": [
    {
     "name": "stdout",
     "output_type": "stream",
     "text": [
      "{'5TW&E': 10, '5ICW': 7}\n"
     ]
    }
   ],
   "source": [
    "del myDict[\"6TW&E\"]\n",
    "print(myDict)"
   ]
  },
  {
   "cell_type": "markdown",
   "id": "b02d181a-3bf6-4b75-8e08-d5acd4baae31",
   "metadata": {},
   "source": [
    "Je kan het aantal elementen in een dictionary bepalen met de `len()` functie."
   ]
  },
  {
   "cell_type": "code",
   "execution_count": 18,
   "id": "09c1d507-5357-427f-ab47-c7457041a0bb",
   "metadata": {},
   "outputs": [
    {
     "name": "stdout",
     "output_type": "stream",
     "text": [
      "2\n"
     ]
    }
   ],
   "source": [
    "print(len(myDict))"
   ]
  },
  {
   "cell_type": "markdown",
   "id": "6fcd277f-cb06-4cb8-831e-0b8e9480ae78",
   "metadata": {},
   "source": [
    ":::{admonition} Opmerking\n",
    ":class: note\n",
    "Omdat dictionaries ongeordend zijn, zijn vele concepten die gelden voor lists, niet van toepassing op dictionaries. Zo kan je bijvoorbeeld geen _subdictionary_ maken door een key-bereik te definiëren (_slicing_), je kunt kunt een dictionary niet _sorteren_ of _inverteren_. Dictionaries zijn daarom wat beperkt, maar ze kunnen nuttig zijn.\n",
    ":::"
   ]
  },
  {
   "cell_type": "markdown",
   "id": "cc109d27-08c8-4f93-97f2-2800ffedc708",
   "metadata": {},
   "source": [
    "(dictmethodes-target)=\n",
    "### Methodes\n",
    "\n",
    "Voor dictionaries zijn er verschillende methoden beschikbaar. Volgende methoden worden het meest gebruikt:\n",
    "1. `<dictionary>.keys()` levert een itereerbaar object dat alle keys van de dictionary genereert.\n",
    "2. `<dictionary>.values()` levert een itereerbaar object dat alle waardes van een dictionary genereert.\n",
    "3. `<dictionary>.items()` levert een itereerbaar object dat 2-tuples genereert die alle keys en waardes van de dictionary bevatten.\n",
    "4. `<dictionary>.get(<key>)` kun je gebruiken om een waarde uit de dictionary te halen (zelfs als je niet weet of de `<key>` die je zoekt wel in de dictionary zit). Je roept de `get()` methode aan met de key die je zoekt als argument en het geeft de corresponderende waarde terug als de key bestaat of de speciale waarde `None` als de key niet bestaat in de dictionary. Als je in plaats van `None` een andere waarde terug wilt krijgen als de `<key>` niet bestaat, dan kun je die waarde meegeven als het tweede (optionele) argument.\n",
    "\n",
    "\n",
    "\n"
   ]
  },
  {
   "cell_type": "code",
   "execution_count": 19,
   "id": "914ae435-2c19-4020-a876-61bc7caadeab",
   "metadata": {},
   "outputs": [
    {
     "name": "stdout",
     "output_type": "stream",
     "text": [
      "dict_keys(['5TW&E', '5ICW'])\n"
     ]
    }
   ],
   "source": [
    "print(myDict.keys())"
   ]
  },
  {
   "cell_type": "markdown",
   "id": "3207e441-478d-41b5-94e3-e8f01c798a9d",
   "metadata": {},
   "source": [
    "Hierboven is duidelijk op te merken dat de methode `keys()` iets levert die er uit ziet als een _lijst_, maar geen _lijst_ is. De methode levert een itereerbaar object. Om er een lijst van te maken moeten we dit object casten naar een lijst:"
   ]
  },
  {
   "cell_type": "code",
   "execution_count": 20,
   "id": "3e10f85f-4724-4e01-8b76-0398ad3e3e83",
   "metadata": {},
   "outputs": [
    {
     "name": "stdout",
     "output_type": "stream",
     "text": [
      "['5TW&E', '5ICW']\n"
     ]
    }
   ],
   "source": [
    "print(list(myDict.keys()))"
   ]
  },
  {
   "cell_type": "markdown",
   "id": "2527be70-709d-46ca-bf21-847e313d3b0e",
   "metadata": {},
   "source": [
    "Demonsteren we nog de andere methoden:"
   ]
  },
  {
   "cell_type": "code",
   "execution_count": 21,
   "id": "7e3d9d57-2c0d-4d17-bb68-b4922623af12",
   "metadata": {},
   "outputs": [
    {
     "name": "stdout",
     "output_type": "stream",
     "text": [
      "[10, 7]\n",
      "[('5TW&E', 10), ('5ICW', 7)]\n",
      "('5TW&E', 10)\n",
      "7\n",
      "None\n",
      "Bestaat niet!\n"
     ]
    }
   ],
   "source": [
    "print(list(myDict.values()))\n",
    "print(list(myDict.items()))\n",
    "print(list(myDict.items())[0])\n",
    "print(myDict.get(\"5ICW\"))\n",
    "print(myDict.get(\"6ICW\"))\n",
    "print(myDict.get(\"6ICW\",\"Bestaat niet!\"))"
   ]
  },
  {
   "cell_type": "markdown",
   "id": "308f5d78-d010-4884-9be2-4784652529af",
   "metadata": {},
   "source": [
    "## Itereerbaar object creëeren\n",
    "\n",
    "Indien we een itereerbaar object wensen, waarbij een zekere (vooraf vastgelegde) herhaling van toepassing moet zijn, kunnen we via de `range()` functie deze creëeren. De `range(<start>,<stop>,<step>)` functie gelijkt sterk op wat we bij `slicing` toepassen. Deze aanvaardt namelijk drie parameters:\n",
    "* `<start>`: vanaf welke integer waarde moet het itereerbare object starten? _Optioneel, indien niet meegegeven wordt gestart vanaf 0._\n",
    "* `<stop>`: tot welke integer waarde moet het itereerbare object gaan?\n",
    "* `<step>`: in welke stappen moet het itereerbare object doorlopen worden? _Optioneel, indien niet meegegeven wordt de waarde per één verhoogd._"
   ]
  },
  {
   "cell_type": "code",
   "execution_count": 22,
   "id": "d67d7b6a-c129-4330-b43d-0d0a96859ea4",
   "metadata": {},
   "outputs": [
    {
     "name": "stdout",
     "output_type": "stream",
     "text": [
      "<class 'range'>\n",
      "range(0, 5)\n"
     ]
    }
   ],
   "source": [
    "myIterableObject = range(0,5,1)\n",
    "print(type(myIterableObject))\n",
    "print(myIterableObject)"
   ]
  },
  {
   "cell_type": "markdown",
   "id": "da33be02-f7cc-4a01-b86f-2fd8dd982402",
   "metadata": {},
   "source": [
    "Op zich gelijkt dit niet op een itereerbaar oject zoals wij die kennen. We kunnen dit object echter casten naar een lijst, zodat dit voor ons duidelijker wordt dat we hier toch wel te maken hebben met een itereerbaar object."
   ]
  },
  {
   "cell_type": "code",
   "execution_count": 23,
   "id": "757e0795-e2d4-4005-977e-1e0db9c4f5d4",
   "metadata": {},
   "outputs": [
    {
     "name": "stdout",
     "output_type": "stream",
     "text": [
      "[0, 1, 2, 3, 4]\n"
     ]
    }
   ],
   "source": [
    "print(list(myIterableObject))"
   ]
  },
  {
   "cell_type": "markdown",
   "id": "bf4637d8-c9b9-4c0a-9025-ed89f77468e2",
   "metadata": {},
   "source": [
    "In bovenstaand voorbeeld kon je ook reeds opmerken dat het meegeven van een `<step>` waarde gelijk aan één weinig nut heeft. Onderstaande voorbeelden tonen de optionele parameters aan."
   ]
  },
  {
   "cell_type": "code",
   "execution_count": 24,
   "id": "c825026f-5e7e-4fa4-80b2-ffbdef24de23",
   "metadata": {},
   "outputs": [
    {
     "name": "stdout",
     "output_type": "stream",
     "text": [
      "[0, 1, 2, 3, 4]\n",
      "[2, 3, 4, 5]\n",
      "[0, 3, 6, 9]\n"
     ]
    }
   ],
   "source": [
    "print(list(range(5)))\n",
    "print(list(range(2,6)))\n",
    "print(list(range(0,10,3)))"
   ]
  }
 ],
 "metadata": {
  "kernelspec": {
   "display_name": "Python 3 (ipykernel)",
   "language": "python",
   "name": "python3"
  },
  "language_info": {
   "codemirror_mode": {
    "name": "ipython",
    "version": 3
   },
   "file_extension": ".py",
   "mimetype": "text/x-python",
   "name": "python",
   "nbconvert_exporter": "python",
   "pygments_lexer": "ipython3",
   "version": "3.12.5"
  }
 },
 "nbformat": 4,
 "nbformat_minor": 5
}