{
 "cells": [
  {
   "cell_type": "markdown",
   "id": "284ba804-9a6e-464b-89f9-cca7027ff420",
   "metadata": {},
   "source": [
    "# Voorwaardelijke herhaling\n",
    "\n",
    "## Inleiding\n",
    "\n",
    "In de vorige modules leerden we hoe we met behulp van beslissingen onze code konden aftakken (enkel- of meerzijdige beslissing, ook wel _branching_ genaamd) zodat andere code werd uitgevoerd afhankelijk van de staat van bepaalde variabelen of invoer van de gebruiker. Wat we nog niet konden was terug naar boven vertakken. Soms willen we dat een heel stuk code twee of meerdere malen moet uitgevoerd worden tot aan een bepaalde conditie wordt voldaan.\n",
    "\n",
    "Herhalingen (_lussen/loops_ of _iteraties_) creëer je wanneer bepaalde code _een \"aantal\" keer_ moet herhaald worden. Hoe vaak de herhaling moet duren is afhankelijk van de conditie die je hebt bepaald. Door herhalende code met loops te schrijven maken we onze code __korter__ en bijgevolg ook __minder foutgevoelig__ en __beter onderhoudbaar__.\n",
    "\n",
    "Indien vooraf geweten is hoeveel keer de code moet herhaald worden spreken we van een __begrensde herhaling__, die in de [volgende module](project:#for-target) wordt behandeld. Indien de herhaling moet blijven duren totdat aan een voorwaarde is voldaan spreekt men van de __voorwaardelijke herhaling__, waar deze module over handelt.\n",
    "\n",
    "## Opbouw\n",
    "\n",
    "Een voorwaardelijke herhaling wordt opgebouwd met het `while` sleutelwoord. Het ingesprongen programmablok onder het while sleutelwoord wordt uitgevoerd zolang de booleaanse uitdrukking `<expressie>` het resultaat `True` heeft.\n",
    "\n",
    "```\n",
    "while <expressie>:\n",
    "    <code indien waar>\n",
    "    <en nog meer code bij waar>\n",
    "<deze code wordt slechts uitgevoerd als de expressie false oplevert>\n",
    "```\n",
    "\n",
    "Je moet begrijpen dat het ingesprongen programmablok __alleen__ doorlopen wordt als aan de voorwaarde voldaan is (het wordt dus niet sowieso één keer doorlopen) en dat het altijd __volledig__ doorlopen wordt alvorens de voorwaarde opnieuw geëvalueerd wordt (het stopt dus niet onmiddellijk wanneer tijdens het uitvoeren de voorwaarde niet langer voldaan is).\n",
    "\n",
    "Volgend voorbeeld demonstreert de werking:"
   ]
  },
  {
   "cell_type": "code",
   "execution_count": 26,
   "id": "37b95e2e-965b-43ab-905e-174d9fdb5137",
   "metadata": {},
   "outputs": [
    {
     "name": "stdout",
     "output_type": "stream",
     "text": [
      "Iteratie #1\n",
      "Iteratie #2\n",
      "Iteratie #3\n",
      "Lus beïndigd\n"
     ]
    }
   ],
   "source": [
    "teller = 0\n",
    "while(teller!=3):\n",
    "    teller += 1\n",
    "    print(f\"Iteratie #{teller}\")\n",
    "print(\"Lus beïndigd\")"
   ]
  },
  {
   "cell_type": "markdown",
   "id": "d1639969-739b-4ff8-8e0d-91b6776a4e23",
   "metadata": {},
   "source": [
    "## Jumps of GoTo's\n",
    "\n",
    "```{figure} https://imgs.xkcd.com/comics/goto.png\n",
    ":height: 200px\n",
    ":align: left\n",
    ":figwidth: image\n",
    ":figclass: myBlockImg\n",
    "\n",
    "Het gevaar bij gebruik van GoTo's.\n",
    "```\n",
    "\n",
    "Goed geschreven code is code die sequentieel wordt uitgevoerd. Het gebruik van _jumps_ in code duid meestal op slecht geschreven code. Echter kan het gebruik van _jumps_ soms een meerwaarde zijn, en omwille van deze reden staan een tweetal _jumps_ die behoren tot de `while` dan ook hier vermeld:\n",
    "* Break\n",
    "* Continue\n",
    "\n",
    "### Break\n",
    "\n",
    "Het codewoord `break` laat toe de `while` lus vroegtijdig te verlaten. Hierdoor zullen de overige regels code die in de while staan niet uitgevoerd worden en zal de `<expressie>` ook niet meer gecontroleerd worden. De while lus wordt verlaten en de code onder de while lus wordt verder uitgevoerd. "
   ]
  },
  {
   "cell_type": "code",
   "execution_count": 27,
   "id": "6ca2b15b-570d-4479-ab41-a517404a784a",
   "metadata": {},
   "outputs": [
    {
     "name": "stdin",
     "output_type": "stream",
     "text": [
      "Geef een getal op:  139\n"
     ]
    },
    {
     "name": "stdout",
     "output_type": "stream",
     "text": [
      "Het getal 139 is een priemgetal\n"
     ]
    }
   ],
   "source": [
    "isPriem = True\n",
    "getal = int(input(\"Geef een getal op: \"))\n",
    "deler = 2\n",
    "while(deler<getal/2):\n",
    "    if((getal%deler)==0):\n",
    "        #deelbaar! geen priem\n",
    "        isPriem = False\n",
    "        break\n",
    "    deler += 1 #controleer de volgende deler\n",
    "print(f\"Het getal {getal} is {'g' if (not isPriem) else ''}een priemgetal\")"
   ]
  },
  {
   "cell_type": "markdown",
   "id": "77dc7bce-2061-45f6-81fe-2c79c4566417",
   "metadata": {},
   "source": [
    "Bovenstaande manier van werken gaat in tegen de sequentiële code, maar maakt wel dat er bespaard wordt op processor cycli. Bij heel grote getallen zal het controleren op delers vroegtijdig worden afgebroken. De code zou even correct werken zonder de `break`, maar het zou veel langer duren om alle (mogelijke) delers te doorlopen. \n",
    "\n",
    "### Continue\n",
    "\n",
    "Een tweede mogelijkheid die een soort _jump_ toelaat in de `while` lus is het `continue` codewoord. Ook hier worden, net zoals bij de `break` de overige regels code die in de while lus staan niet meer uitgevoerd, maar wordt er wel teruggekeerd naar de `<expressie>` om te controleren of de lus nog moet herhaald worden."
   ]
  },
  {
   "cell_type": "code",
   "execution_count": 28,
   "id": "45d70d1a-a911-4b1a-80cb-54016d919194",
   "metadata": {},
   "outputs": [
    {
     "name": "stdout",
     "output_type": "stream",
     "text": [
      "(-5,-0.07) (-4,-0.08) (-3,-0.11) (-2,-0.17) (-1,-0.33) (1,0.33) (2,0.17) (3,0.11) (4,0.08) \n",
      "Lus beïndigd\n"
     ]
    }
   ],
   "source": [
    "x = -5\n",
    "a = 3\n",
    "#Bepaal (enkele) punten van een random 1/a.x functie\n",
    "while(x!=5):\n",
    "    if(x==0):\n",
    "        #gedeeld door 0! Niet uitvoeren\n",
    "        x += 1;\n",
    "        continue\n",
    "    y = 1/(a*x)\n",
    "    print(f\"({x},{round(y,2)})\",end=\" \")\n",
    "    x += 1;\n",
    "print(\"\\nLus beïndigd\")"
   ]
  },
  {
   "cell_type": "markdown",
   "id": "aa6544e8-d911-4e98-950d-00afbc3be779",
   "metadata": {},
   "source": [
    "Bovenstaand voorbeeld voorkomt dat een deling door 0 wordt uitgevoerd, wat een foutmelding zou geven en het programma zou doen stoppen. _Merk op dat dit slechts een voorbeeld is, en een veel elegantere oplossing mogelijk is. Het gebruik van for-loops, try-excepts en MatPlotLib zullen in de toekomst gebruikt worden om de punten van de grafiek te bepalen en deze visueel voor te stellen._\n",
    "\n",
    "## While True\n",
    "\n",
    "Een speciale `while` constructie die veelvuldig wordt gebruikt is de `While True`. De `<expressie>` die hier gebruikt wordt zal altijd evalueren naar `True`, waardoor de lus nooit of te nimmer kan verlaten worden (m.u.v. een `break`). Indien een programma moet ontworpen worden die voortdurend moet blijven uitgevoerd worden is deze constructie aangeraden. Dit zal dan ook veelvuldig op hardware voorkomen. \n",
    "\n",
    "```\n",
    "While(True):\n",
    "    <code die oneindig moet uitgevoerd worden>\n",
    "    <en nog meer code>\n",
    "```\n",
    "\n",
    "```{figure} https://imgs.xkcd.com/comics/flowchart.png\n",
    ":height: 200px\n",
    ":align: left\n",
    ":figwidth: image\n",
    ":figclass: myBlockImg\n",
    "\n",
    "Een oneindige lus.\n",
    "```\n",
    "\n"
   ]
  },
  {
   "cell_type": "markdown",
   "id": "defbea7e-50d9-4823-bb58-c73ffb6a8484",
   "metadata": {},
   "source": [
    ":::{admonition} Opgelet\n",
    ":class: warning\n",
    "Het gebruik van herhaling kan leiden tot een programma die _vast loop_ of _crasht_. Dat wil zeggen dat Python voortdurend de herhaling zal blijven uitvoeren aangezien de `<expressie>` altijd evalueert naar `True`. Een programma kan onderbroken worden door de toetsencombinatie `ctrl` en `c` gelijktijdig in te drukken. _Bij hardware gaan we dit zelfs als een `try-except` moeten implementeren in onze `main` routine._\n",
    ":::\n"
   ]
  }
 ],
 "metadata": {
  "kernelspec": {
   "display_name": "Python 3 (ipykernel)",
   "language": "python",
   "name": "python3"
  },
  "language_info": {
   "codemirror_mode": {
    "name": "ipython",
    "version": 3
   },
   "file_extension": ".py",
   "mimetype": "text/x-python",
   "name": "python",
   "nbconvert_exporter": "python",
   "pygments_lexer": "ipython3",
   "version": "3.12.5"
  }
 },
 "nbformat": 4,
 "nbformat_minor": 5
}