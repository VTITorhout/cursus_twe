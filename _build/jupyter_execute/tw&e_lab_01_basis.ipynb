{
 "cells": [
  {
   "cell_type": "markdown",
   "id": "1049da7b-aa2c-400e-81b5-1defddbb52b0",
   "metadata": {},
   "source": [
    "# \"Hello World\" of blink\n",
    "\n",
    "Dit behoeft geen uitleg. Het eerste programma die altijd wordt geschreven op een nieuw systeem (soft- of hardware) is altijd \"Hello World\", als het systeem beschikt over een uitgang die tekst toelaat (denken we hierbij aan een seriële monitor of scherm), en het laten blinken van een lampje indien geen uitgang voor tekst beschikbaar is.\n",
    "\n",
    "Ook deze cursus zal starten met deze twee voorbeelden. Wellicht heb je na installatie het \"Hello World\" voorbeeld meteen geprobeerd, maar laten we toch enkele zaken afspreken voor een goeie, gestructureerde opbouw van onze programma's:\n",
    "\n",
    "## Skeleton\n",
    "\n",
    "Een goeie Skeleton bestaat uit een structuur/opbouw die in ieder programma terug te vinden is. Volgende skeleton is deze die wij standaard gaan gebruiken als wij programmeren op hardware:\n",
    "\n",
    "```python\n",
    "#imports\n",
    "\n",
    "#functies/definities\n",
    "\n",
    "#main\n",
    "def main():\n",
    "    pass\n",
    "\n",
    "#oproepen main\n",
    "if(__name__==\"__main__\"):\n",
    "    main()\n",
    "```\n",
    "In bovenstaande skeleton is op te merken dat deze slechts zal uitgevoerd worden als het script als `main` wordt uitgevoerd. Overigens valt ook op te merken dat dit niet overeenstemt met Arduino code die gebruik maakt van een `setup()` en een `loop()`. Indien je een loop wil integreren moet de `main()` voorzien worden van een `while(True)`. Wat binnen de scope van de `while` staat is dan eigenlijk de `loop()`. In hardware is het interessant dat bepaalde code blijft uitgevoerd worden, maar dikwijls beslist de ontwerper liever zelf waar hij dit implementeert dan vast gebonden te zitten aan de functie `loop()`. Wil je toch echter dezelfde structuur als Arduino, dan kan dit als volgt:\n",
    "```python\n",
    "#imports\n",
    "\n",
    "#functies/definities\n",
    "\n",
    "#setup\n",
    "def setup():\n",
    "    pass\n",
    "\n",
    "#loop\n",
    "def loop():\n",
    "    pass\n",
    "\n",
    "#controle op main\n",
    "if(__name__==\"__main__\"):\n",
    "    setup()\n",
    "    while(True):\n",
    "        loop()\n",
    "```\n",
    "\n",
    "De commentaar hoeft er natuurlijk niet altijd bijgeplaatst te worden, maar deze volgorde van implementatie moet wel zichtbaar zijn. Nu deze afspraak gemaakt is kunnen we meteen overgaan op ons voorbeeld \"Hello World\".\n",
    "\n",
    "### Hello World"
   ]
  },
  {
   "cell_type": "code",
   "execution_count": 1,
   "id": "8e8256fd-851d-4ebf-8d14-eae96ac81c7b",
   "metadata": {},
   "outputs": [],
   "source": [
    "#loop\n",
    "def main():\n",
    "    pass\n",
    "\n",
    "#uitvoeren indien main\n",
    "if(__name__==\"__main__\"):\n",
    "    main()"
   ]
  },
  {
   "cell_type": "markdown",
   "id": "629f4002-6aa0-46f9-8bf3-6c7b7bb2ebfd",
   "metadata": {},
   "source": [
    "### Blink\n",
    "\n",
    "Het blink voorbeeld vereist extra functionaliteiten die moeten ingeladen worden. Deze komen aan bod bij de module [GPIO](project:#gpio).\n",
    "\n",
    "## Keyboard interrupt\n",
    "\n",
    "Op hardware is het mogelijk dat de gekende combinatie `ctrl` + `c` niet werkt terwijl de processor bezig is met een commando (zoals bijvoorbeeld het inlezen van een UART). De gebruiker krijgt de indruk dat het systeem vastzit en niet meer reageert op input van de gebruiker. Een methode die werkt, maar die misschien minder interessant is, is het resetten van de microcontroller. Dit kan door bijvoorbeeld de reset knop in te drukken of simpelweg de connectie met de PC te onderbreken en deze terug aan te sluiten.\n",
    "\n",
    "Een betere methode is een `try` `except` te implementeren die controleert of er een keboard interrupt van de gebruiker komt, die we rond de herhaling plaatsen. Volgende manier van werken verduidelijkt dit:\n",
    "\n",
    "```python\n",
    "if(__name__==\"__main__\"):\n",
    "    setup()\n",
    "    try:\n",
    "        while(True):\n",
    "            loop()\n",
    "    except KeyboardInterrupt:\n",
    "        print('While gestopt door gebruiker')\n",
    "```"
   ]
  },
  {
   "cell_type": "markdown",
   "id": "e3876448-9100-4500-a20f-d912b1a3ec53",
   "metadata": {},
   "source": [
    "\n"
   ]
  }
 ],
 "metadata": {
  "kernelspec": {
   "display_name": "Python 3 (ipykernel)",
   "language": "python",
   "name": "python3"
  },
  "language_info": {
   "codemirror_mode": {
    "name": "ipython",
    "version": 3
   },
   "file_extension": ".py",
   "mimetype": "text/x-python",
   "name": "python",
   "nbconvert_exporter": "python",
   "pygments_lexer": "ipython3",
   "version": "3.12.5"
  }
 },
 "nbformat": 4,
 "nbformat_minor": 5
}