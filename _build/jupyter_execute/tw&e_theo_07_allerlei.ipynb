{
 "cells": [
  {
   "cell_type": "markdown",
   "id": "72c53bbe-d99e-472a-918d-0290e208f11d",
   "metadata": {
    "editable": true,
    "slideshow": {
     "slide_type": ""
    },
    "tags": []
   },
   "source": [
    "# Functies en procedures\n",
    "\n",
    "## Inleiding\n",
    "\n",
    "Een gestructureerd programma is meestal opgebouwd uit een hoofdprogramma en een aantal functies die in het hoofdprogramma opgeroepen worden. Die functies moet je (net als het hoofdprogramma trouwens) uiteraard zelf schrijven. Daarvoor gebruik je het sleutelwoord `def`. De syntax ziet er als volgt uit:\n",
    "\n",
    "```\n",
    "def <functienaam>(<argument1>,<argument2>, ... ,<argument n>):\n",
    "    #<argument> is nu beschikbaar om iets mee te doen\n",
    "    <deze code zal wellicht zaken uitvoeren met de meegegeven argumenten> \n",
    "    return <waarde1>,<waarde2>, ... ,<waarde n>\n",
    "```\n",
    "\n",
    "* Kies voor `<functienaam>` een zinvolle naam die duidelijk maakt wat de functie inhoud\n",
    "* De `<argumenten>` zijn optioneel. Je kan kiezen om geen mee te geven, slechts één, of zelfs meerdere\n",
    "* Indien je meerdere `<argumenten>` meegeeft met de functie/procedure moeten deze gescheiden zijn door een komma (`,`)\n",
    "* Een `<argument>` kan ook optioneel zijn. Je maakt een `<argument>` optioneel door er een standaard (default) waarde toe te kennen. Indien het `<argument>` dan niet wordt meegegeven bij de aanroep van de functie/procedure wordt de standaardwaarde ingevuld. Niet-optionele argumenten moeten altijd __voor__ de optionele argumenten staan.\n",
    "* De `return` op het einde van de functie is optioneel. Indien de functie geen `<waarden>` teruggeeft naar de oproeper wordt dit een procedure of subroutine genaamd. _Opgelet! Op de achtergrond wordt altijd een waarde teruggegeven (al kiest men hier zelf niet voor), namelijk `None`._\n",
    "* Er kunnen meerdere waarden teruggegeven worden naar de oproeper via de `return`. Deze waarden moeten gescheiden worden door een komma (`,`). _Er kan nooit meer dan één object teruggegeven worden. Python zal onder de motorkap deze verschillende waarden combineren in één object, namelijk een tuple. Bij ontvangst door de oproeper kan deze tuple ge-unpacked worden._  \n",
    "\n",
    "\n",
    "## Gebruik\n",
    "\n",
    "Volgend voorbeeld demonstreert het gebruik:"
   ]
  },
  {
   "cell_type": "code",
   "execution_count": 1,
   "id": "6120805d-b515-428a-a2f0-8c121d151950",
   "metadata": {},
   "outputs": [
    {
     "name": "stdout",
     "output_type": "stream",
     "text": [
      "Inside function\n"
     ]
    }
   ],
   "source": [
    "def myCoolFunction():\n",
    "    print(\"Inside function\")\n",
    "\n",
    "# Hier start de eigenlijke code\n",
    "myCoolFunction()"
   ]
  },
  {
   "cell_type": "markdown",
   "id": "76221f6e-f552-4dc9-b290-a7a20fb54e29",
   "metadata": {
    "editable": true,
    "slideshow": {
     "slide_type": ""
    },
    "tags": []
   },
   "source": [
    "Het is duidelijk dat bovenstaand voorbeeld van een procedure weinig nut heeft. Men kon evengoed gekozen hebben om de `print()` functie te plaatsen i.p.v. `myCoolFunction()`, wat hetzelfde resultaat zou gegeven hebben. Een functie/procedure zal dan ook pas nut hebben wanneer meerdere lijntjes code hierin gecombineerd worden, en dit meerdere malen in het programma moet gebruikt worden, om zo herhalende code te voorkomen met alle gevolgen van dien. _Dit is echter geen bindende voorwaarde. Ook wanneer de code slechts één keer moet uitgevoerd worden kan het gebruik van een functie/procedure een meerwaarde bieden, namelijk het overzichtelijk houden/maken van je code._\n",
    "\n",
    "### Argumenten\n",
    "\n",
    "De eerder gedefiniëerde procedure `myCoolFunction()` kan echter uitgebreid worden door deze te voorzien van argumenten die met de functie/procedure kunnen meegegeven worden. Passen we onze procedure aan als volgt:\n"
   ]
  },
  {
   "cell_type": "code",
   "execution_count": 2,
   "id": "c5fd4937-75f0-4273-a675-3bc075eb6615",
   "metadata": {},
   "outputs": [
    {
     "name": "stdout",
     "output_type": "stream",
     "text": [
      "Koen is 39 jaar oud\n"
     ]
    }
   ],
   "source": [
    "def myCoolFunction(naam,leeftijd):\n",
    "    print(f\"{naam} is {leeftijd} jaar oud\")\n",
    "\n",
    "# Hier start de eigenlijke code\n",
    "myCoolFunction(\"Koen\",39)"
   ]
  },
  {
   "cell_type": "markdown",
   "id": "3db9958e-6ee0-4fd8-955b-854806e42a26",
   "metadata": {
    "editable": true,
    "slideshow": {
     "slide_type": ""
    },
    "tags": []
   },
   "source": [
    "Als argument kunnen we dus een naam kiezen die we verder in onze functie/procedure wensen te gebruiken als variabele. De inhoud van de variabele wordt echter gekozen door de oproeper, die tussen de haken van de functie/procedure de gewenste waarde meegeeft. Indien meerdere argumenten moeten meegegeven worden is de __volgorde van belang__.\n",
    "\n",
    ":::{admonition} Named arguments\n",
    ":class: tip\n",
    "Python ondersteunt echter _named arguments_. Dit betekent dat je met het argument de naam kan meegeven, en zo een willekeurige volgorde van argumenten gebruiken. Ons voorbeeld zou er dan als volgt kunnen uitzien:\n",
    "```python\n",
    "def myCoolFunction(naam,leeftijd):\n",
    "    print(f\"{naam} is {leeftijd} jaar oud\")\n",
    "\n",
    "# Hier start de eigenlijke code\n",
    "myCoolFunction(leeftijd=39,naam=\"Koen\")\n",
    "```\n",
    "_Weet dat dit echter in andere talen niet altijd wordt ondersteund. Eveneens zal op hardware (MicroPython) dit uit den boze zijn aangezien dit zorgt voor een te grote implementatiecode._ \n",
    ":::\n",
    "\n",
    ":::{admonition} Default values\n",
    ":class: tip\n",
    "Zoals in de inleiding aangehaald kunnen er ook _default values_ meegegeven worden met een functie/procedure. Deze kunnen dan bij het aanroepen van de functie achterwege gelaten worden. Let wel op dat je deze altijd op het einde plaatst, tenzij je natuurlijk werkt met _named arguments_.\n",
    "```python\n",
    "def myCoolFunction(naam,leeftijd,geslacht=\"X\"):\n",
    "    print(f\"{naam} is {leeftijd} jaar oud, geslacht {geslacht}\")\n",
    "\n",
    "# Hier start de eigenlijke code\n",
    "myCoolFunction(\"Koen\",39)\n",
    "```\n",
    "_Standaard zal bovenstaande procedure het geslacht 'X' aangeven, tenzij het juiste geslacht meegegeven wordt tijdens het aanroepen van de procedure._\n",
    ":::\n",
    "### Return values\n",
    "\n",
    "Als laatste stap kan een functie een object terugsturen naar de oproeper van deze. Dit object kan een itereerbaar item zijn (string, list, tuple, dictionary, ...) en dusdanig meer dan één waarde bevatten. Je kan zelf kiezen om deze verschillende waarden in één object te stoppen en dit terug te zenden, of je kan dit werkje laten opknappen door Python zelf, die op zijn beurt alle waarden in één tuple zal plaatsen.\n",
    "\n",
    "Breiden we onze eerdere code uit:\n"
   ]
  },
  {
   "cell_type": "code",
   "execution_count": 3,
   "id": "1704d371-f7ef-44a8-8529-783e69a06af1",
   "metadata": {},
   "outputs": [
    {
     "name": "stdout",
     "output_type": "stream",
     "text": [
      "Koen is 39 jaar oud\n"
     ]
    }
   ],
   "source": [
    "def myCoolFunction(naam,leeftijd):\n",
    "    myStr = f\"{naam} is {leeftijd} jaar oud\"\n",
    "    return myStr\n",
    "\n",
    "# Hier start de eigenlijke code\n",
    "print(myCoolFunction(\"Koen\",39))"
   ]
  },
  {
   "cell_type": "markdown",
   "id": "97dc14ed-b03c-424a-a324-7be70561d668",
   "metadata": {
    "editable": true,
    "slideshow": {
     "slide_type": ""
    },
    "tags": []
   },
   "source": [
    "In bovenstaand voorbeeld wordt een string als object teruggegeven aan de oproepende code, die vervolgens integraal wordt doorgegeven aan de `print()` functie. \n",
    "\n",
    "Passen we nu onze kennis toe in een duidelijker voorbeeld, waarbij we de functie `divmod()` zelf maken:"
   ]
  },
  {
   "cell_type": "code",
   "execution_count": 4,
   "id": "d14b0189-4622-4f69-9487-966c71c469c8",
   "metadata": {
    "editable": true,
    "slideshow": {
     "slide_type": ""
    },
    "tags": []
   },
   "outputs": [
    {
     "name": "stdout",
     "output_type": "stream",
     "text": [
      "Als je 10 deelt door 3 bekom je 3 met als rest 1\n"
     ]
    }
   ],
   "source": [
    "def myDivMod(getal,deler):\n",
    "    geheel = getal//deler\n",
    "    rest = getal%deler\n",
    "    return geheel,rest\n",
    "\n",
    "# Hier start de eigenlijke code\n",
    "geheelGetalDeling,restNaDeling = myDivMod(10,3)\n",
    "print(f\"Als je 10 deelt door 3 bekom je {geheelGetalDeling} met als rest {restNaDeling}\")"
   ]
  },
  {
   "cell_type": "markdown",
   "id": "6e584256-6262-403c-92a8-728fe625d6d6",
   "metadata": {
    "editable": true,
    "slideshow": {
     "slide_type": ""
    },
    "tags": []
   },
   "source": [
    "In bovenstaand voorbeeld wordt de tuple die wordt teruggegeven door de functie `myDivMod()` opgesplitst naar twee variabelen. Je kon hier ook geopteerd hebben om de tuple op te slaan en gebruik te maken van _slicing_ bij het printen, maar dit zou onleesbaardere code geven.\n",
    "\n",
    "### Function overloading\n",
    "In heel veel talen is het mogelijk om een zelfde functie naam te gebruiken maar waarbij het aantal of soort van argument(en) kan wijzigen. Dit is zeker zo voor talen die gecompileerd moeten worden, maar is in minder mate interessant voor _dynamically-typed_ talen, waarbij het type van variabele afhangt van het moment van toekennen. Indien we dit toch wensen te bereiken zullen we ons moeten gaan toespitsen op [_dynamic dispatch_](https://en.wikipedia.org/wiki/Dynamic_dispatch). We kunnen dit vervolgens op twee manieren implementeren:\n",
    "* single dispatch: de uit te voeren functie hangt af van slechts één argument (het eerste)\n",
    "* multiple dispatch: de uit te voeren functie hangt af van meerdere argumenten\n",
    "\n",
    "Enkel de _single dispatch_ wordt hier toegelicht. Voor wie in het onderwerp geïnteresseerd is zal met de uitleg over _single dispatch_ en alle extra informatie die op het internet te vinden is over _multiple dispatch_ voldoende geholpen zijn om zich een weg te banen doorheen de materie.\n",
    "\n",
    "#### Via dictionaries\n",
    "\n",
    "De meest begrijpbare manier is wellicht a.d.h.v. dictionaries.\n",
    "1) We schrijven voor ieder mogelijk type argument een functie die het argument verwerkt\n",
    "2) We ontwerpen een dictionary waarbij het type van argument gebruikt wordt als _key_ en de referentie naar de functie als _value_.\n",
    "3) We ontwerpen een algemene functie die verschillende types van argumenten aanvaard. In deze functie zoeken we het type van het argument op in de dictionary en voeren we de referentie uit.\n",
    "\n",
    "Volgend voorbeeld demonstreert dit:"
   ]
  },
  {
   "cell_type": "code",
   "execution_count": 5,
   "id": "65ecab96-e4fc-45fb-90c8-85994200de8e",
   "metadata": {
    "editable": true,
    "slideshow": {
     "slide_type": ""
    },
    "tags": []
   },
   "outputs": [
    {
     "name": "stdout",
     "output_type": "stream",
     "text": [
      "Processing an integer: 42\n",
      "Processing a float: 3.14\n",
      "Processing a string: Hello\n",
      "Processing unknown type: [1, 2]\n"
     ]
    }
   ],
   "source": [
    "def myFuncForInt(value):\n",
    "    print(f\"Processing an integer: {value}\")\n",
    "\n",
    "def myFuncForFloat(value):\n",
    "    print(f\"Processing a float: {value}\")\n",
    "\n",
    "def myFuncForString(value):\n",
    "    print(f\"Processing a string: {value}\")\n",
    "\n",
    "def myFuncForUnknown(value):\n",
    "    print(f\"Processing unknown type: {value}\")\n",
    "\n",
    "myLookupDict = {\n",
    "    int: myFuncForInt,\n",
    "    float: myFuncForFloat,\n",
    "    str: myFuncForString,\n",
    "}\n",
    "\n",
    "def myFunc(value):\n",
    "    handler = myLookupDict.get(type(value), myFuncForUnknown)\n",
    "    handler(value)\n",
    "\n",
    "# Overloading myFunc\n",
    "myFunc(42)\n",
    "myFunc(3.14)\n",
    "myFunc(\"Hello\")\n",
    "myFunc([1,2])"
   ]
  },
  {
   "cell_type": "markdown",
   "id": "95adc40c-c707-465a-939d-4e00c3ceb0f3",
   "metadata": {
    "editable": true,
    "slideshow": {
     "slide_type": ""
    },
    "tags": []
   },
   "source": [
    "Bovenstaand voorbeeld is een mooi voorbeeld van het gebruik van een dictionary met bijhorende methode voor een onbestaande key, maar wordt door enthousiastelingen van Python eerder als _not done_ aanzien. Een andere manier dringt zich op.\n",
    "\n",
    "#### Via decorators\n",
    "Een tweede manier, die meer [pythonic](https://www.udacity.com/blog/2020/09/what-is-pythonic-style.html) is, is a.d.h.v. [decorators](https://www.geeksforgeeks.org/decorators-in-python/). Een specifieke decorator die hiervoor ontworpen is, is de [single-dispatch generieke functie](https://peps.python.org/pep-0443/). Volgend voorbeeld verduidelijkt de werking:"
   ]
  },
  {
   "cell_type": "code",
   "execution_count": 6,
   "id": "4cddc62d-9486-4bdc-b902-a3e846f50ee9",
   "metadata": {
    "editable": true,
    "slideshow": {
     "slide_type": ""
    },
    "tags": []
   },
   "outputs": [
    {
     "name": "stdout",
     "output_type": "stream",
     "text": [
      "Processing an integer: 42\n",
      "Processing a float: 3.14\n",
      "Processing a string: Hello\n",
      "Processing unknown type: [1, 2]\n"
     ]
    }
   ],
   "source": [
    "from functools import singledispatch\n",
    "\n",
    "@singledispatch\n",
    "def myFunc(value):\n",
    "    print(f\"Processing unknown type: {value}\")\n",
    "    \n",
    "@myFunc.register\n",
    "def _(value: int):\n",
    "    print(f\"Processing an integer: {value}\")\n",
    "\n",
    "@myFunc.register\n",
    "def _(value: float):\n",
    "    print(f\"Processing a float: {value}\")\n",
    "\n",
    "@myFunc.register\n",
    "def _(value: str):\n",
    "    print(f\"Processing a string: {value}\")\n",
    "\n",
    "# Overloading myFunc\n",
    "myFunc(42)\n",
    "myFunc(3.14)\n",
    "myFunc(\"Hello\")\n",
    "myFunc([1,2])"
   ]
  },
  {
   "cell_type": "markdown",
   "id": "bfba1751-cd3e-4c2a-87b8-d11da2bd9cfb",
   "metadata": {
    "editable": true,
    "slideshow": {
     "slide_type": ""
    },
    "tags": []
   },
   "source": [
    "# Scope\n",
    "\n",
    "Functies/methoden laten toe om variabelen en objecten te encapsuleren tot een bepaald stukje van de code. Men spreekt hier over de _scope_ van de variabele of het object. Op zich bestaan er twee verschillende _scopes_, namelijk de _globale_ en _lokale_ scope. Het correct gebruik van de scope zal zorgen dat een programma werkt zoals gewenst. \n",
    "\n",
    ":::{admonition} Regels van good practice\n",
    ":class: note\n",
    "Een goeie programmeur zal zelden variabelen/objecten declaren in de globale scope, tenzij hij echt niet anders kan. Variabelen en objecten moeten gedeclareerd worden in de lokale scope. Indien informatie moet uitgewisseld worden tussen verschillende stukken code (scopes) moet dit gebeuren door gebruik te maken van _argumenten_ en _return values_ bij functies en methoden. In de uitleg die hieronder staat wordt hierop dieper ingegaan.\n",
    ":::\n",
    "\n",
    "## Global scope\n",
    "\n",
    "De globale scope is eenvoudig te definiëren. Alle variabelen/objecten die aangemaakt worden en niet behoren tot een functie en/of methode zijn globaal gedeclareerd. Dit betekent dat ze toegankelijk zijn vanuit iedere functie/methode. Volgend voorbeeld demonstreert dit:"
   ]
  },
  {
   "cell_type": "code",
   "execution_count": 7,
   "id": "568d08a0-45b0-4512-a1b9-56968e14e35b",
   "metadata": {},
   "outputs": [
    {
     "name": "stdout",
     "output_type": "stream",
     "text": [
      "Koen\n"
     ]
    }
   ],
   "source": [
    "#Functies/methoden\n",
    "def myCoolFunction():\n",
    "    print(naam)\n",
    "\n",
    "#Volgende variabele is globaal gedeclareerd\n",
    "naam = \"Koen\"\n",
    "\n",
    "#Voer een functie uit\n",
    "myCoolFunction()"
   ]
  },
  {
   "cell_type": "markdown",
   "id": "e3bac7b7-4288-4268-a4a2-7cd2d5f1809d",
   "metadata": {
    "editable": true,
    "slideshow": {
     "slide_type": ""
    },
    "tags": []
   },
   "source": [
    "Voor een beginnend programmeur is de werking van bovenstaande code een evidentie. Maar wat indien we een globale en lokale scope beginnen te mengen? Volgend stukje code demonstreert het probleem:"
   ]
  },
  {
   "cell_type": "code",
   "execution_count": 8,
   "id": "82a4c609-44e6-4536-9c35-ca3a16a6913e",
   "metadata": {},
   "outputs": [
    {
     "name": "stdout",
     "output_type": "stream",
     "text": [
      "Geeraert\n",
      "Koen\n"
     ]
    }
   ],
   "source": [
    "#Functies/methoden\n",
    "def myCoolFunction(naam):\n",
    "    #naam is lokaal gedefinieerd (in deze functie)\n",
    "    print(naam)\n",
    "\n",
    "#Volgende variabele is globaal gedeclareerd\n",
    "naam = \"Koen\"\n",
    "\n",
    "#Voer een functie uit\n",
    "myCoolFunction(\"Geeraert\")\n",
    "print(naam)"
   ]
  },
  {
   "cell_type": "markdown",
   "id": "40f58d20-5306-4cd6-b92d-f0216a5cf18a",
   "metadata": {
    "editable": true,
    "slideshow": {
     "slide_type": ""
    },
    "tags": []
   },
   "source": [
    "Hier is op te merken dat de lokale scope de variabele `naam` verandert van waarde. Dit is echter niet zo, want op het einde van het programma wordt de variabele `naam` nog eens afgedrukt, en is duidelijk te zien dat deze nog altijd de oorspronkelijke (globale) inhoud bevat. Men kan zeggen dat de lokale scope de globale scope met identieke naamgeving verbergt. Vanuit de lokale scope kunnen we dus niet meer aan een variabele of object met een zelfde naamgeving.\n",
    "\n",
    ":::{admonition} Opgelet\n",
    ":class: danger\n",
    "Voor kleine programma's is dit nog overkomelijk door een andere naam te gebruiken voor de variabele of het object, maar indien de code zal beginnen bestaan uit een resem van verschillende stukken code door verschillende mensen geschreven wordt de kans dat een identieke naam wordt gebruikt groter. __Het wordt dus ten stelligste afgeraden variabelen en objecten globaal te declareren wil je de werking van jouw stuk code kunnen garanderen!__\n",
    ":::\n",
    "\n",
    "\n",
    ":::{admonition} Thonny's Assistant\n",
    ":class: hint\n",
    "In Thonny zit een mogelijkheid ingebakken om hiervoor (en eveneens voor nog veel meer) gewaarschuwd te worden. Bij het tabblad _Weergave_ kun je kiezen voor _Assistant_. Dit activeren zal er voor zorgen dat aan de zijkant van je scherm een extra venster wordt weergegeven. Standaard zul je hier weinig of niets zien. Er zal pas informatie worden weergegeven als aan volgende zaken is voldaan:\n",
    "* Je code is opgeslagen\n",
    "* Je code moet minimaal één keer uitgevoerd zijn.\n",
    "* Je code wordt niet (meer) uitgevoerd. _Wanneer je een eindeloze lus toepast zal de Assistant niets weergeven. Je moet dan verplicht eerst op het Stop symbool klikken (of gebruik maken van de toetsencombinatie `ctrl` + `c`) zodat de code stopt met uitgevoerd te worden._\n",
    "\n",
    "```{figure} ./images/thonny_assistant.png\n",
    ":width: 500px\n",
    ":align: left\n",
    ":figwidth: image\n",
    ":figclass: myBlockImg\n",
    "\n",
    "De assistant van Thonny had ons al gewaarschuwd voor mogelijke problemen.\n",
    "```\n",
    "Als we kijken naar de _waarschuwing_ zien we een probleem op lijn 2. De assistant vermeld duidelijk dat de lokale variabele de globale variabele (met dezelfde naam) verbergt, en dat je deze niet meer kan gebruiken in je code. Het stukje tekst _\"Most likely there is nothing wrong with this. I just wanted to remind you that you can't access the global variabele like this. If you kwew it then please ignore the warning.\"_ dekt de lading.\n",
    "\n",
    "Goeie code zou in de assistant geen enkele waarschuwing mogen geven. Maak er dan ook een gewoonte van om alle waarschuwingen weg te werken, en dit door __jouw code aan te passen__ en niet door de waarschuwing af te vinken...\n",
    ":::\n",
    "\n",
    "## Local scope\n",
    "\n",
    "Een definitie van de lokale scope is ondertussen wellicht nutteloos. Het is duidelijk dat wanneer een variabele of object wordt aangemaakt in een functie of methode deze lokaal gedeclareerd is. Je kunt je dan afvragen hoe dit dan moet voor een programma? Herschrijven we ons programma van hierboven op de juiste manier:"
   ]
  },
  {
   "cell_type": "code",
   "execution_count": 9,
   "id": "78951d2e-2787-4d24-a84f-ee9ed2c9cab0",
   "metadata": {},
   "outputs": [
    {
     "name": "stdout",
     "output_type": "stream",
     "text": [
      "Geeraert\n",
      "Koen\n"
     ]
    }
   ],
   "source": [
    "#Functies/methoden\n",
    "def myCoolFunction(naam):\n",
    "    #naam is lokaal gedefinieerd (in deze functie)\n",
    "    print(naam)\n",
    "\n",
    "def main(): #hier start ons hoofdprogramma\n",
    "    #Volgende variabele is globaal gedeclareerd\n",
    "    naam = \"Koen\"\n",
    "    #Voer een functie uit\n",
    "    myCoolFunction(\"Geeraert\")\n",
    "    print(naam)\n",
    "\n",
    "#start het hoofdprogramma\n",
    "main()"
   ]
  },
  {
   "cell_type": "markdown",
   "id": "496145e6-8d6e-433b-a1c9-ea776d232d2e",
   "metadata": {
    "editable": true,
    "slideshow": {
     "slide_type": ""
    },
    "tags": []
   },
   "source": [
    "In de assistant is te zien dat de waarschuwing van eerder is verdwenen. \n",
    "\n",
    "```{figure} ./images/thonny_assistant2.png\n",
    ":width: 500px\n",
    ":align: left\n",
    ":figwidth: image\n",
    ":figclass: myBlockImg\n",
    "\n",
    "Deze code ziet er goed uit.\n",
    "```\n",
    "\n",
    "Je kan je nu wel gaan afvragen hoe we in de functie `myCoolFunction` nu aan de variabele `naam` geraken die in de functie `main` is gedeclareerd. Wel, zoals in de inleiding reeds aangehaald moet je alle variabelen die nodig zijn in de functie/methode meegeven met de _function call_ als argumenten. Het oproepen van de functie `myCoolFunction(naam)` geeft dus de inhoud van de _\"globale\"_ variabele mee als argument, en kan vervolgens gebruikt worden als een _\"lokale\"_ variabele. _Merk op dat hier bewust gebruik is gemaakt van `\"` rond het type variabelen, aangezien er geen globale variabelen worden gebruikt. Als je echter naar de hierarchie in de code kijkt worden er enkel _function calls_ uitgevoerd van de `main` naar de `myCoolFunction`. De `main` staat dus boven `myCoolFunction` in de hierarchie, en de variabelen in de `main` kunnen dan ook eerder als globaal aanschouwd worden voor de `myCoolFunction`._  \n",
    "\n",
    "# Importeren\n",
    "\n",
    "Bij het onwerp van complexere programma's wordt er meestal modulair gewerkt. Het totale programma wordt opgesplitst in bevatbare (herbruikbare) onderdelen. Deze deeloplossingen kunnen door verscheidene programmeurs afzonderlijk ontworpen zijn (met alle risico's betreffende de globale scope, zie hiervoor eerder). Uiteindelijk moeten deze deeloplossingen terug samen komen in de overkoepelende code. \n",
    "\n",
    "Om deze manier van aanpak te kunnen bewerkstelligen moet er gebruik gemaakt worden van het `import` commando, die op zijn beurt de import functie aanroept (en nog verschillende andere zaken uitvoert, maar ons hier te ver zou afleiden van het doel). Het eerste voorbeeld die aangehaald zal worden demonstreert (in beperkte mate) deze manier van werken. Geleidelijk aan wordt dit beperkte voorbeeld uitgebreid tot een volledig correct werkend geheel.\n",
    "\n",
    "## Import (volledig)\n",
    "\n",
    "Gaan we als voorbeeld uit van een toepassing op complex rekenen, waarbij het omzetten van carthesiaanse notatie naar polaire notatie en vice versa meerdere malen moet gebeuren. Het is dan ook logisch dat we deze omzettingen zodanig gaan schrijven dat het hergebruik er van mogelijk wordt. \n",
    "\n",
    "Ontwerpen we hiervoor eerst een script (`cpx.py`) met volgende (beperkte) inhoud:\n",
    "\n",
    "_Negeer de commentaar die bij het script staat, dit is automatisch toegevoegd door het programma waarin de cursus is ontworpen._"
   ]
  },
  {
   "cell_type": "code",
   "execution_count": 10,
   "id": "7339f355-90bc-4477-b5f3-32480c40874c",
   "metadata": {
    "editable": true,
    "slideshow": {
     "slide_type": ""
    },
    "tags": [
     "remove-cell"
    ]
   },
   "outputs": [
    {
     "name": "stdout",
     "output_type": "stream",
     "text": [
      "Overwriting cpx.py\n"
     ]
    }
   ],
   "source": [
    "%%writefile cpx.py\n",
    "def car2pol(a,b):\n",
    "    #convert carthesian (a+j.b) to polair (mod/arg)\n",
    "    car = complex(f\"{a}+{b}j\")\n",
    "    return abs(car)"
   ]
  },
  {
   "cell_type": "code",
   "execution_count": 11,
   "id": "22753c70-6c10-4ea4-b057-d386fe43864b",
   "metadata": {
    "editable": true,
    "slideshow": {
     "slide_type": ""
    },
    "tags": []
   },
   "outputs": [],
   "source": [
    "# %load cpx.py\n",
    "def car2pol(a,b):\n",
    "    #convert carthesian (a+j.b) to polair (mod/arg)\n",
    "    car = complex(f\"{a}+{b}j\")\n",
    "    return abs(car)"
   ]
  },
  {
   "cell_type": "markdown",
   "id": "11ecec29-a229-4087-9a38-4f15f4b20e94",
   "metadata": {
    "editable": true,
    "slideshow": {
     "slide_type": ""
    },
    "tags": []
   },
   "source": [
    "Het bovenstaande script bevat één definitie die toelaat een complex getal in carthesiaanse notatie via argumenten mee te geven, en waarbij de modulus van de polaire voorstelling wordt teruggeven. _Deze functie is momenteel nog niet compleet aangezien niet alle nodige wiskundige bewerkingen standaard ingebakken zitten in Python. We zullen hiervoor eveneens een `import` moeten uitvoeren, maar aangezien dit stukje cursus over `import` gaat, kan dit (tot nu toe) nog niet gebruikt worden._\n",
    "\n",
    "Vervolgens ontwerpen we een tweede script (die fysisch een ander bestand is) waarin we de eerder geschreven code van de complexe omzetting kunnen (her)gebruiken:"
   ]
  },
  {
   "cell_type": "code",
   "execution_count": 12,
   "id": "9fa71670-9e2b-449c-9281-6d5b569e4890",
   "metadata": {
    "editable": true,
    "slideshow": {
     "slide_type": ""
    },
    "tags": []
   },
   "outputs": [
    {
     "name": "stdout",
     "output_type": "stream",
     "text": [
      "5.0\n"
     ]
    }
   ],
   "source": [
    "import cpx\n",
    "print(cpx.car2pol(3,4))"
   ]
  },
  {
   "cell_type": "markdown",
   "id": "2ae8b8f8-d508-41e5-a640-1ad3d0fcfef3",
   "metadata": {
    "editable": true,
    "slideshow": {
     "slide_type": ""
    },
    "tags": []
   },
   "source": [
    "Op de eerste lijn voeren we dus het commando `import` uit, gevolgd door de naam van ons script, en dit zonder de extensie. Hierbij worden alle definities die in ons script zitten overgenomen, maar wel via hun [_fully qualified names_](https://en.wikipedia.org/wiki/Fully_qualified_name). Dit betekent dat de [_namespace_](https://en.wikipedia.org/wiki/Namespace) waartoe deze behoren moet gebruikt worden om deze te kunnen aanroepen. _Het zou kunnen dat er twee keer dezelfde functienaam is gebruikt geweest in verschillende scripts. Om dubbelzinnigheid te voorkomen moet je dus opgeven uit welk script je de functie wenst te gebruiken, m.a.w. <ins>je moet als eerste de namespace opgeven, gevolgd door een `.` en vervolgens gevolgd door de functienaam</ins>._\n",
    "\n",
    ":::{admonition} Namespaces\n",
    ":class: note\n",
    "Indien je zeker bent dat er geen dubbelzinnigheid kan ontstaan betreffende benamingen van functies kun je ook de functies importeren waarbij de namespace achterwege gelaten wordt. Je kan dit bekomen door de syntax iets te wijzigen als volgt:\n",
    "```python\n",
    "from cpx import *\n",
    "```\n",
    "Dit maakt dat alle functies die beschikbaar zijn in `cpx` worden ingeladen in het huidige script zonder dat er nog gebruik moet gemaakt worden van de _fully qualified names_. Indien een zelfde functie in het huidige script bestaat zal deze natuurlijk overschreven worden als het importeren gebeurd __na__ de functie definitie. Omgekeerd geldt eveneens.\n",
    ":::"
   ]
  },
  {
   "cell_type": "code",
   "execution_count": 13,
   "id": "bfea1aa3-6bd0-4027-aab8-9bbe7c1c31a8",
   "metadata": {
    "editable": true,
    "slideshow": {
     "slide_type": ""
    },
    "tags": []
   },
   "outputs": [
    {
     "name": "stdout",
     "output_type": "stream",
     "text": [
      "5.0\n"
     ]
    }
   ],
   "source": [
    "from cpx import *\n",
    "print(car2pol(3,4))"
   ]
  },
  {
   "cell_type": "markdown",
   "id": "566f6a60-6d93-4b5e-b33a-3175ec9bb379",
   "metadata": {
    "editable": true,
    "slideshow": {
     "slide_type": ""
    },
    "tags": []
   },
   "source": [
    "Nu het `import` commando gekend is, kunnen we ons voorbeeld verbeteren. Er zijn een resem aan _bibliotheken_ beschikbaar die ofwel standaard bij de installatie zitten, ofwel kunnen gedownload worden van het web. De bibliotheek `math` is standaard bij de installatie aanwezig en kunnen wij gebruiken om ons voorbeeld te verbeteren:"
   ]
  },
  {
   "cell_type": "code",
   "execution_count": 14,
   "id": "423d81f4-b2d8-4683-8cca-4993dcc6050c",
   "metadata": {
    "editable": true,
    "slideshow": {
     "slide_type": ""
    },
    "tags": [
     "remove-cell"
    ]
   },
   "outputs": [
    {
     "name": "stdout",
     "output_type": "stream",
     "text": [
      "Overwriting cpx.py\n"
     ]
    }
   ],
   "source": [
    "%%writefile cpx.py\n",
    "import math\n",
    "def car2pol(a,b):\n",
    "    #convert carthesian (a+j.b) to polair (mod/arg)\n",
    "    mod = abs(complex((f\"{a}+{b}j\")))\n",
    "    arg = math.degrees(math.atan(b/a))\n",
    "    return mod,arg"
   ]
  },
  {
   "cell_type": "code",
   "execution_count": 15,
   "id": "f7dcfbeb-d3a1-43e1-a0e6-2c4983c8ec25",
   "metadata": {
    "editable": true,
    "slideshow": {
     "slide_type": ""
    },
    "tags": []
   },
   "outputs": [],
   "source": [
    "# %load cpx.py\n",
    "import math\n",
    "def car2pol(a,b):\n",
    "    #convert carthesian (a+j.b) to polair (mod/arg)\n",
    "    mod = abs(complex((f\"{a}+{b}j\")))\n",
    "    arg = math.degrees(math.atan(b/a))\n",
    "    return mod,arg"
   ]
  },
  {
   "cell_type": "code",
   "execution_count": 16,
   "id": "bb6f646d-1436-4cc1-aef6-b840b73b617f",
   "metadata": {
    "editable": true,
    "slideshow": {
     "slide_type": ""
    },
    "tags": [
     "remove-cell"
    ]
   },
   "outputs": [
    {
     "data": {
      "text/plain": [
       "<module 'cpx' from 'C:\\\\Users\\\\koeng\\\\OneDrive - Scholengroep Sint-Rembert vzw\\\\+ Python\\\\cursus_twe\\\\cpx.py'>"
      ]
     },
     "execution_count": 16,
     "metadata": {},
     "output_type": "execute_result"
    }
   ],
   "source": [
    "import sys\n",
    "%run cpx.py\n",
    "sys.modules.pop('cpx')"
   ]
  },
  {
   "cell_type": "markdown",
   "id": "d236481f-98ff-4ef3-a1e9-e12a2ee1c2f1",
   "metadata": {
    "editable": true,
    "slideshow": {
     "slide_type": ""
    },
    "tags": []
   },
   "source": [
    "Bovenstaande code is nu aangepast zodat deze functies gebruikt uit de `math` bibliotheek, namelijk de functie `degrees` en de functie `atan`. Aangezien de bilbiotheek toebehoort aan het vakdomein van de wiskunde worden alle goniometerische functies uitgevoerd in radialen. Het gebruik van de `degrees` functie zet dit vervolgens om naar graden. De volledige polaire complexe voorstelling wordt vervolgens geretourneerd als een tuple."
   ]
  },
  {
   "cell_type": "code",
   "execution_count": 17,
   "id": "62093da6-510a-49a4-86ce-bd376f425403",
   "metadata": {
    "editable": true,
    "slideshow": {
     "slide_type": ""
    },
    "tags": []
   },
   "outputs": [
    {
     "name": "stdout",
     "output_type": "stream",
     "text": [
      "(5.0, 53.13010235415598)"
     ]
    },
    {
     "name": "stdout",
     "output_type": "stream",
     "text": [
      "\n"
     ]
    }
   ],
   "source": [
    "import cpx\n",
    "print(cpx.car2pol(3,4))"
   ]
  },
  {
   "cell_type": "markdown",
   "id": "19e9a868-4e9a-4a62-8114-b9e2fdcf6d96",
   "metadata": {
    "editable": true,
    "slideshow": {
     "slide_type": ""
    },
    "tags": []
   },
   "source": [
    "## Import (deel)\n",
    "\n",
    "Het importeren van een volledige bibliotheek kan soms te veel geheugen vragen (zeker op een embedded systeem). Indien we maar nood hebben aan één of enkele functies uit een bibliotheek kunnen we dit gedeelte alleen inladen als volgt:"
   ]
  },
  {
   "cell_type": "code",
   "execution_count": 18,
   "id": "193fd36a-d37a-4a55-90d9-69fdada4ec6d",
   "metadata": {
    "editable": true,
    "slideshow": {
     "slide_type": ""
    },
    "tags": []
   },
   "outputs": [
    {
     "name": "stdout",
     "output_type": "stream",
     "text": [
      "45.0\n"
     ]
    }
   ],
   "source": [
    "from math import degrees,atan\n",
    "print(degrees(atan(1/1)))"
   ]
  },
  {
   "cell_type": "markdown",
   "id": "fc71b8d6-e482-4140-b203-c02ac99a9b25",
   "metadata": {
    "editable": true,
    "raw_mimetype": "",
    "slideshow": {
     "slide_type": ""
    },
    "tags": []
   },
   "source": [
    ":::{admonition} Wildcard of niet\n",
    ":class: hint\n",
    "Merk op dat de syntax identiek is aan eerder geziene methode om geen gebruik te moeten maken van _namespaces_, met als verschil dat toen alle functies werden ingeladen via de wildcard `*` karakter. De bij \"naam\" geïmporteerde functies kun je dusdanig gebruiken zonder namespace.\n",
    ":::\n",
    "\n",
    "## Import (als)\n",
    "Als laatst voorbeeld volgt ook hoe je een bepaalde functie of module kan vertalen naar een nieuwe naam. De gekozen namen voor een functie zijn meestal logisch voor de ontwerper, maar soms onlogisch of dubbelzinnig voor de gebruiker. Volgend voorbeeld toont hoe je dit kan oplossen a.d.h.v. het `as` commando:"
   ]
  },
  {
   "cell_type": "code",
   "execution_count": 19,
   "id": "43df2bb8-96f8-4c0d-ae17-10024a9453e0",
   "metadata": {
    "editable": true,
    "slideshow": {
     "slide_type": ""
    },
    "tags": []
   },
   "outputs": [
    {
     "name": "stdout",
     "output_type": "stream",
     "text": [
      "45.0\n"
     ]
    }
   ],
   "source": [
    "from math import atan as bgtan\n",
    "from math import degrees as graden\n",
    "print(graden(bgtan(1/1)))"
   ]
  },
  {
   "cell_type": "markdown",
   "id": "f8f8c2f6-8794-40ba-a5c2-9a9512efb6c5",
   "metadata": {
    "editable": true,
    "slideshow": {
     "slide_type": ""
    },
    "tags": []
   },
   "source": [
    "Natuurlijk kun je ook een volledig script inladen en de namespace van deze wijzigen. Volgend voorbeeld verduidelijkt dit:"
   ]
  },
  {
   "cell_type": "code",
   "execution_count": 20,
   "id": "57a4941e-b273-497f-9aac-6379354ff23e",
   "metadata": {
    "editable": true,
    "slideshow": {
     "slide_type": ""
    },
    "tags": []
   },
   "outputs": [
    {
     "name": "stdout",
     "output_type": "stream",
     "text": [
      "45.0\n"
     ]
    }
   ],
   "source": [
    "import math as rekentool\n",
    "print(rekentool.degrees(rekentool.atan(1/1)))"
   ]
  },
  {
   "cell_type": "markdown",
   "id": "e28fdaf5-df7d-4f42-aa36-ee53039e198c",
   "metadata": {
    "editable": true,
    "slideshow": {
     "slide_type": ""
    },
    "tags": []
   },
   "source": [
    "# Allerlei\n",
    "\n",
    "## Start programma\n",
    "Iets over __main__\n",
    "\n",
    "## Foutafhandeling\n",
    "try except\n"
   ]
  }
 ],
 "metadata": {
  "kernelspec": {
   "display_name": "Python 3 (ipykernel)",
   "language": "python",
   "name": "python3"
  },
  "language_info": {
   "codemirror_mode": {
    "name": "ipython",
    "version": 3
   },
   "file_extension": ".py",
   "mimetype": "text/x-python",
   "name": "python",
   "nbconvert_exporter": "python",
   "pygments_lexer": "ipython3",
   "version": "3.12.5"
  }
 },
 "nbformat": 4,
 "nbformat_minor": 5
}