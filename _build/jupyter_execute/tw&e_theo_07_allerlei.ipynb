{
 "cells": [
  {
   "cell_type": "markdown",
   "id": "72c53bbe-d99e-472a-918d-0290e208f11d",
   "metadata": {},
   "source": [
    "# Functies en procedures\n",
    "\n",
    "## Inleiding\n",
    "\n",
    "Een gestructureerd programma is meestal opgebouwd uit een hoofdprogramma en een aantal functies die in het hoofdprogramma opgeroepen worden. Die functies moet je (net als het hoofdprogramma trouwens) uiteraard zelf schrijven. Daarvoor gebruik je het sleutelwoord `def`. De syntax ziet er als volgt uit:\n",
    "\n",
    "```\n",
    "def <functienaam>(<argument1>,<argument2>, ... ,<argument n>):\n",
    "    #<argument> is nu beschikbaar om iets mee te doen\n",
    "    <deze code zal wellicht zaken uitvoeren met de meegegeven argumenten> \n",
    "    return <waarde1>,<waarde2>, ... ,<waarde n>\n",
    "```\n",
    "\n",
    "* Kies voor `<functienaam>` een zinvolle naam die duidelijk maakt wat de functie inhoud\n",
    "* De `<argumenten>` zijn optioneel. Je kan kiezen om geen mee te geven, slechts één, of zelfs meerdere\n",
    "* Indien je meerdere `<argumenten>` meegeeft met de functie/procedure moeten deze gescheiden zijn door een komma (`,`)\n",
    "* Een `<argument>` kan ook optioneel zijn. Je maakt een `<argument>` optioneel door er een standaard (default) waarde toe te kennen. Indien het `<argument>` dan niet wordt meegegeven bij de aanroep van de functie/procedure wordt de standaardwaarde ingevuld. Niet-optionele argumenten moeten altijd __voor__ de optionele argumenten staan.\n",
    "* De `return` op het einde van de functie is optioneel. Indien de functie geen `<waarden>` teruggeeft naar de oproeper wordt dit een procedure of subroutine genaamd.\n",
    "* Er kunnen meerdere waarden teruggegeven worden naar de oproeper via de `return`. Deze waarden moeten gescheiden worden door een komma (`,`). _Er kan nooit meer dan één object teruggegeven worden. Python zal onder de motorkap deze verschillende waarden combineren in één object, namelijk een tuple. Bij ontvangst door de oproeper kan deze tuple ge-unpacked worden._  \n",
    "\n",
    "\n",
    "## Gebruik\n",
    "\n",
    "Volgend voorbeeld demonstreert het gebruik:"
   ]
  },
  {
   "cell_type": "code",
   "execution_count": 1,
   "id": "6120805d-b515-428a-a2f0-8c121d151950",
   "metadata": {},
   "outputs": [
    {
     "name": "stdout",
     "output_type": "stream",
     "text": [
      "Inside function\n"
     ]
    }
   ],
   "source": [
    "def myCoolFunction():\n",
    "    print(\"Inside function\")\n",
    "\n",
    "# Hier start de eigenlijke code\n",
    "myCoolFunction()"
   ]
  },
  {
   "cell_type": "markdown",
   "id": "76221f6e-f552-4dc9-b290-a7a20fb54e29",
   "metadata": {},
   "source": [
    "Het is duidelijk dat bovenstaand voorbeeld van een procedure weinig nut heeft. Men kon evengoed gekozen hebben om de `print()` functie te plaatsen i.p.v. `myCoolFunction()`, wat hetzelfde resultaat zou gegeven hebben. Een functie/procedure zal dan ook pas nut hebben wanneer meerdere lijntjes code hierin gecombineerd worden, en dit meerdere malen in het programma moet gebruikt worden, om zo herhalende code te voorkomen met alle gevolgen van dien. _Dit is echter geen bindende voorwaarde. Ook wanneer de code slechts één keer moet uitgevoerd worden kan het gebruik van een functie/procedure een meerwaarde bieden, namelijk het overzichtelijk houden/maken van je code._\n",
    "\n",
    "### Argumenten\n",
    "\n",
    "De eerder gedefiniëerde procedure `myCoolFunction()` kan echter uitgebreid worden door deze te voorzien van argumenten die met de functie/procedure kunnen meegegeven worden. Passen we onze procedure aan als volgt:\n"
   ]
  },
  {
   "cell_type": "code",
   "execution_count": 2,
   "id": "c5fd4937-75f0-4273-a675-3bc075eb6615",
   "metadata": {},
   "outputs": [
    {
     "name": "stdout",
     "output_type": "stream",
     "text": [
      "Koen is 39 jaar oud\n"
     ]
    }
   ],
   "source": [
    "def myCoolFunction(naam,leeftijd):\n",
    "    print(f\"{naam} is {leeftijd} jaar oud\")\n",
    "\n",
    "# Hier start de eigenlijke code\n",
    "myCoolFunction(\"Koen\",39)"
   ]
  },
  {
   "cell_type": "markdown",
   "id": "3db9958e-6ee0-4fd8-955b-854806e42a26",
   "metadata": {},
   "source": [
    "Als argument kunnen we dus een naam kiezen die we verder in onze functie/procedure wensen te gebruiken als variabele. De inhoud van de variabele wordt echter gekozen door de oproeper, die tussen de haken van de functie/procedure de gewenste waarde meegeeft. Indien meerdere argumenten moeten meegegeven worden is de __volgorde van belang__.\n",
    "\n",
    ":::{admonition} Named arguments\n",
    ":class: tip\n",
    "Python ondersteunt echter _named arguments_. Dit betekent dat je met het argument de naam kan meegeven, en zo een willekeurige volgorde van argumenten gebruiken. Ons voorbeeld zou er dan als volgt kunnen uitzien:\n",
    "```python\n",
    "def myCoolFunction(naam,leeftijd):\n",
    "    print(f\"{naam} is {leeftijd} jaar oud\")\n",
    "\n",
    "# Hier start de eigenlijke code\n",
    "myCoolFunction(leeftijd=39,naam=\"Koen\")\n",
    "```\n",
    "_Weet dat dit echter in andere talen niet altijd wordt ondersteund._ \n",
    ":::\n",
    "\n",
    ":::{admonition} Default values\n",
    ":class: tip\n",
    "Zoals in de inleiding aangehaald kunnen er ook _default values_ meegegeven worden met een functie/procedure. Deze kunnen dan bij het aanroepen van de functie achterwege gelaten worden. Let wel op dat je deze altijd op het einde plaatst, tenzij je natuurlijk werkt met _named arguments_.\n",
    "```python\n",
    "def myCoolFunction(naam,leeftijd,geslacht=\"X\"):\n",
    "    print(f\"{naam} is {leeftijd} jaar oud, geslacht {geslacht}\")\n",
    "\n",
    "# Hier start de eigenlijke code\n",
    "myCoolFunction(\"Koen\",39)\n",
    "```\n",
    "_Standaard zal bovenstaande procedure het geslacht 'X' aangeven, tenzij het juiste geslacht meegegeven wordt tijdens het aanroepen van de procedure._\n",
    ":::\n",
    "\n",
    "\n",
    "\n",
    "### Return values\n",
    "\n",
    "# Foutafhandeling\n",
    "\n",
    "# Importeren\n",
    "\n",
    "Iets over import as\n",
    "Iets over __main__\n"
   ]
  },
  {
   "cell_type": "code",
   "execution_count": null,
   "id": "1704d371-f7ef-44a8-8529-783e69a06af1",
   "metadata": {},
   "outputs": [],
   "source": []
  },
  {
   "cell_type": "code",
   "execution_count": null,
   "id": "7dfac49a-f531-491f-97e7-ae033a99d04e",
   "metadata": {},
   "outputs": [],
   "source": []
  }
 ],
 "metadata": {
  "kernelspec": {
   "display_name": "Python 3 (ipykernel)",
   "language": "python",
   "name": "python3"
  },
  "language_info": {
   "codemirror_mode": {
    "name": "ipython",
    "version": 3
   },
   "file_extension": ".py",
   "mimetype": "text/x-python",
   "name": "python",
   "nbconvert_exporter": "python",
   "pygments_lexer": "ipython3",
   "version": "3.12.5"
  }
 },
 "nbformat": 4,
 "nbformat_minor": 5
}