{
 "cells": [
  {
   "cell_type": "markdown",
   "id": "f5629ae9",
   "metadata": {},
   "source": [
    "# Sequentie en variabelen\n",
    "\n",
    "## Sequentie\n",
    "De sequentie is een programmeerstructuur waarbij regels code één voor één, van boven naar beneden doorlopen en uitgevoerd worden. Eerst wordt de eerste regel code uitgevoerd, erna de tweede, daarna de derde, enzoverder… Bij alle programmeertalen die bedoeld zijn om op een processor te draaien zal dit zo gebeuren. _Merk wel op dat de meeste processoren bestaan uit meerdere kernen. Elke kern zal een bepaald stuk code voor zich nemen en uitvoeren. Op deze manier worden verschillende sequenties naast elkaar uitgevoerd. De code moet hiervoor wel geschikt zijn._\n",
    "\n",
    "Bij Python zal de code ook sequentieel worden uitgevoerd. Volgend voorbeeld verduidelijkt dit:"
   ]
  },
  {
   "cell_type": "code",
   "execution_count": 17,
   "id": "efb7fd93",
   "metadata": {},
   "outputs": [
    {
     "name": "stdout",
     "output_type": "stream",
     "text": [
      "Dit wordt eerst uitgevoerd\n",
      "Dit zal als tweede uitgevoerd worden\n"
     ]
    }
   ],
   "source": [
    "print(\"Dit wordt eerst uitgevoerd\")\n",
    "print(\"Dit zal als tweede uitgevoerd worden\")"
   ]
  },
  {
   "cell_type": "markdown",
   "id": "b3860262",
   "metadata": {},
   "source": [
    "Meteen is al één van de belangrijkste commando's in Python gedemonstreerd, namelijk de `print()` methode. Deze methode laat dus toe om tekst te sturen naar de CLI (Command Line Interface) van je editor. De CLI is een basis input/output mogelijkheid om te communiceren met een python script (bestand met daarin verschillende regels Python code). In Python, en veel andere programmeertalen kan een methode herkend worden doordat deze bestaat uit de naam van de methode gevolgd door een `()`, waarbij tussen de haken er parameters kunnen meegegeven worden met de methode. De parameter die wij hier meegeven is een tekst, ook wel `string` genaamd in programmeren. Zie hiervoor het onderdeel [variabelen](#target-vars) voor meer informatie. _De methode accepteert meestal verschillende (soorten) parameters. Dit wordt __overloading__ van een methode genaamd, waarop later zeker nog wordt teruggekomen._\n",
    "\n",
    "In het begin zul je deze methode frequent moeten gebruiken. Dit is momenteel de enige manier om te interfacen met de gebruiker. Eveneens laat deze methode toe om op banale manier je programma te debuggen. Later zullen we zien dat dit beter kan gebeuren door een [debugger](https://nl.wikipedia.org/wiki/Debugger) te gebruiken.\n",
    "\n",
    "Ook kan de gebruiker informatie via de CLI doorgeven aan het Python programma. Dit gebeurt a.d.h.v. een tweede methode, namelijk `input()`. Deze methode geeft de ingegeven waarde terug aan de oproepende methode. Een combinatie van de twee geziene methodes is als volgt:"
   ]
  },
  {
   "cell_type": "code",
   "execution_count": 12,
   "id": "f0ebf049",
   "metadata": {},
   "outputs": [
    {
     "name": "stdin",
     "output_type": "stream",
     "text": [
      " Koen\n"
     ]
    },
    {
     "name": "stdout",
     "output_type": "stream",
     "text": [
      "Koen\n"
     ]
    }
   ],
   "source": [
    "print(input())"
   ]
  },
  {
   "cell_type": "markdown",
   "id": "fbc4794f",
   "metadata": {},
   "source": [
    "Men kan zich afvragen waarom er nu twee identieke zaken onder elkaar komen te staan? Op de eerste lijn is het de waarde die de gebruiker ingeeft die meteen wordt weergegeven. De `input()` methode wordt beïndigd op het moment je de `enter` indrukt op het toetsenbord. De CLI gaat hierdoor naar de volgende lijn. Het Python programma neemt de input van de gebruiker en geeft dit door aan de `print()` methode. Deze drukt wat de gebruiker ingegeven geeft integraal af.\n",
    "\n",
    "Optioneel kan met de `input()` methode nog een parameter meegegeven worden. De parameter (van het type `string`) zal op dezelfde lijn van de input eerst worden weergegeven. Volgend voorbeeld verduidelijkt dit:"
   ]
  },
  {
   "cell_type": "code",
   "execution_count": 13,
   "id": "0fc1bee3",
   "metadata": {},
   "outputs": [
    {
     "name": "stdin",
     "output_type": "stream",
     "text": [
      "Wat is je naam?  Koen\n"
     ]
    },
    {
     "name": "stdout",
     "output_type": "stream",
     "text": [
      "Koen\n"
     ]
    }
   ],
   "source": [
    "print(input(\"Wat is je naam? \"))"
   ]
  },
  {
   "cell_type": "markdown",
   "id": "0911b3d9",
   "metadata": {},
   "source": [
    "(target-vars)=\n",
    "## Variabelen\n",
    "Een variabele is een plaats in het computergeheugen waarin je één iets tegelijk, zoals tekst of een getal, kan bewaren om het nadien terug te raadplegen. Je kan dit het best vergelijken met een archiefkast:\n",
    "- De __lade__ is de `variabele`\n",
    "- Het __label__ op de lade is de `naam` van de variabele\n",
    "- De __inhoud__ van de lade is de `waarde` van de variabele\n",
    "\n",
    "```{figure} ./images/archiefkast.jpg\n",
    ":width: 350px\n",
    ":align: left\n",
    ":figwidth: image\n",
    ":figclass: myBlockImg\n",
    "\n",
    "Een archiefkast als voorbeeld van een variabele.\n",
    "```\n",
    "\n",
    "### Creëeren van variabelen\n",
    "Elke programmeertaal maakt gebruik van variabelen. Een variabele krijgt een naam (`variabele name`) en aan de variabele kan je een waarde (`value`) toekennen. \n",
    "\n",
    "```{figure} ./images/variabele.png\n",
    ":width: 350px\n",
    ":align: left\n",
    ":figwidth: image\n",
    ":figclass: myBlockImg\n",
    "\n",
    "De variabele voorgesteld als opslagdoos.\n",
    "```\n",
    "\n",
    "De naam van de variabele is vrij te kiezen, maar er zijn enkele regels die moeten gerespecteerd worden:\n",
    "- De naam van een variabele moet met een letter beginnen.\n",
    "- Variabelen mogen geen spaties bevatten. Volgens de Python stijlgids vervang je de spatie door een liggend streepje `_`, zoals in `aantal_leerlingen` en `aantal_dagen`. Dit wordt ook wel _snake casing_ genoemd. Er zijn echter andere programmeertalen zoals Java en C# waar het 2de woord start met een hoofdletter, zoals in `aantalLeerlingen` en `aantalDagen`. Deze manier van werken wordt _camel casing_ genoemd.\n",
    "- Hoofdletters en kleine letters worden als verschillende variabelen aanzien. De variabele `hoofdpersonage` is __niet dezelfde__ als de variabele `Hoofdpersonage`.\n",
    "- Er mogen geen gereserveerde woorden uit Python gebruikt worden als variabele. Zie hiervoor de [lijst](https://realpython.com/lessons/reserved-keywords/) met gereserveerde woorden (_key words_ genaamd).\n",
    "- Je kan zoveel variabelen maken als nodig. Omdat variabelen geheugenruimte innemen, streef je het best naar <ins>zo weinig mogelijk</ins> variabelen tenzij dit de verstaanbaarheid van de code in het gedrang brengt.\n",
    "- De naam van de variabele staat steeds links van het `=` teken (de toekenningsoperator) en de waarde die erin bewaard wordt rechts.\n",
    "- Voorzie logische namen die het doel van de variabele duidelijk maken.\n",
    "\n",
    "Volgende voorbeeldcode demonstreert het gebruik:"
   ]
  },
  {
   "cell_type": "code",
   "execution_count": 14,
   "id": "b10f7d10",
   "metadata": {},
   "outputs": [
    {
     "name": "stdout",
     "output_type": "stream",
     "text": [
      "Koen\n"
     ]
    }
   ],
   "source": [
    "mijn_naam = \"Koen\"\n",
    "print(mijn_naam)"
   ]
  },
  {
   "cell_type": "markdown",
   "id": "527e675c",
   "metadata": {},
   "source": [
    "Wat je links van het `=` teken schrijft hoeft niet expliciet een `literal` te zijn (een `literal` is letterlijk vertaald _letterlijk_, dus eigenlijk exact wat er staat). Dit kan ook de waarde zijn die van een andere methode komt, die op het moment dat het programma wordt uitgevoerd ingevuld word. De vorige voorbeelden kunnen tot volgend voorbeeld gecombineerd worden:"
   ]
  },
  {
   "cell_type": "code",
   "execution_count": 15,
   "id": "382dcdc5",
   "metadata": {},
   "outputs": [
    {
     "name": "stdin",
     "output_type": "stream",
     "text": [
      "Wat is je naam?  Koen\n"
     ]
    },
    {
     "name": "stdout",
     "output_type": "stream",
     "text": [
      "Koen\n"
     ]
    }
   ],
   "source": [
    "input_gebruiker = input(\"Wat is je naam? \")\n",
    "print(input_gebruiker)"
   ]
  },
  {
   "cell_type": "markdown",
   "id": "994e9020",
   "metadata": {},
   "source": [
    ":::{admonition} Waarschuwing\n",
    ":class: danger\n",
    "Je kan een variabele pas gebruiken als deze geïnitialiseerd werd! Met andere woorden, je krijgt een foutmelding (NameError) als je deze gebruikt vooraleer er een waarde aan toegekend werd.\n",
    ":::\n",
    "\n",
    "Onderstaand voorbeeld demonstreert dit (waarbij ook nog eens de nadruk wordt gelegd op het feit dat variabelen _case sensitive_ zijn):"
   ]
  },
  {
   "cell_type": "code",
   "execution_count": 18,
   "id": "36494e42",
   "metadata": {},
   "outputs": [
    {
     "ename": "NameError",
     "evalue": "name 'Input_gebruiker' is not defined",
     "output_type": "error",
     "traceback": [
      "\u001b[1;31m---------------------------------------------------------------------------\u001b[0m",
      "\u001b[1;31mNameError\u001b[0m                                 Traceback (most recent call last)",
      "Cell \u001b[1;32mIn[18], line 1\u001b[0m\n\u001b[1;32m----> 1\u001b[0m \u001b[38;5;28mprint\u001b[39m(\u001b[43mInput_gebruiker\u001b[49m)\n",
      "\u001b[1;31mNameError\u001b[0m: name 'Input_gebruiker' is not defined"
     ]
    }
   ],
   "source": [
    "print(Input_gebruiker)"
   ]
  },
  {
   "cell_type": "markdown",
   "id": "f35c3750",
   "metadata": {},
   "source": [
    "### Soorten variabelen\n",
    "\n",
    "Python is een niet strikte taal. Hiermee wordt (gedeeltelijk) bedoeld dat je vooraf niet moet opgeven wat je in de variabele zal opslaan. _De variabelen worden allemaal opgeslagen in het heap geheugen, terwijl op de stack er enkel referenties worden bijgehouden. Door deze manier van werken kan de inhoud van een variabele wijzigen doorheen het programma, en wordt het voor de gebruiker intuïtiever deze taal te gebruiken, dit cfr. de eisen gesteld door Guido van Rossum._  \n",
    "\n",
    "Dit wil echter niet zeggen dat er geen verschillende soorten variabelen bestaan. Python maakt onderscheid tussen de volgende types variabelen:\n",
    "- Gehele getallen (zoals 5, 20, -16, ...)\n",
    "- Rationale getallen (zoals 2.5, 0.4, -100.1, maar eveneens gehele getallen, dus alles wat als breuk kan geschreven worden)\n",
    "- Tekst (dit kan een enkele letter/leesteken zijn of een sliert van letters/leestekens)\n",
    "\n",
    "Men spreekt in het Engels (dus eveneens in andere programmeertalen) over volgende type variabelen:\n",
    "- integer (geheel getal)\n",
    "- float (rationaal getal)\n",
    "- string\n",
    "\n",
    ":::{admonition} Opgelet\n",
    ":class: warning\n",
    "Houd echter wel rekening met volgende zaken:\n",
    "* Een `float` wordt bekomen door gebruik te maken van een literal met daarin een `punt` en geen `komma`! _Men spreekt dan ook over floating **point** getallen..._\n",
    "* Voor een `string` kan gebruik gemaakt worden van enkele of dubbele aanhalingstekens._De keuze hangt volledig af van de gebruiker, en men wisselt meestal als er **in** de string een bepaald type aanhalingstekens voorkomt._\n",
    ":::\n",
    "\n",
    "Volgend voorbeeld demonstreert dit alles. "
   ]
  },
  {
   "cell_type": "code",
   "execution_count": 19,
   "id": "31cddad9",
   "metadata": {},
   "outputs": [
    {
     "name": "stdout",
     "output_type": "stream",
     "text": [
      "123 3.14 'dhr' Koen Geeraert \"aka\" GEKO\n"
     ]
    }
   ],
   "source": [
    "my_int = 123\n",
    "my_float = 3.14\n",
    "my_string1 = \"'dhr' Koen\"\n",
    "my_string2 = 'Geeraert \"aka\" GEKO'\n",
    "print(my_int, my_float, my_string1, my_string2)"
   ]
  },
  {
   "cell_type": "markdown",
   "id": "0297a6e0",
   "metadata": {},
   "source": [
    "In het voorbeeld hierboven is een andere manier gebruikt om parameters door te geven naar de methode `print()`. Een lijst van variabelen wordt doorgegeven, gescheiden door een `,`. Deze worden vervolgens elk om beurt afgedrukt op de CLI, gescheiden door een spatie. _Python zal op de achtergrond de verschillende variabelen doorgeven als een [tuple](https://www.w3schools.com/Python/python_tuples.asp), waarbij de tuple in de methode print terug uitgepakt zal worden en vervolgens via een iteratie zal doorlopen worden. Later in deze cursus meer hierover._\n",
    "\n",
    "### Typecasting\n",
    "\n",
    "Python zal altijd zijn best doen om het voor de gebruiker zo eenvoudig mogelijk te maken, en dit door het meest geschikte type variabele te kiezen. Bij het gebruik van methodes zal de methode echter beslissen wat wordt teruggegeven aan de oproepende code. Bij de `input()` methode zal altijd een `string` worden teruggegeven, los of de gebruiker al dan niet een `integer` of `float` heeft ingegeven. De methode `input()` doet namelijk geen controle op wat de gebruiker ingeeft. Indien hier geen rekening mee gehouden wordt kan men problemen krijgen. Volgend voorbeeld demonstreert dit:"
   ]
  },
  {
   "cell_type": "code",
   "execution_count": 20,
   "id": "c4558ab9",
   "metadata": {},
   "outputs": [
    {
     "name": "stdin",
     "output_type": "stream",
     "text": [
      "Geef een integer op:  123\n"
     ]
    },
    {
     "ename": "TypeError",
     "evalue": "can only concatenate str (not \"int\") to str",
     "output_type": "error",
     "traceback": [
      "\u001b[1;31m---------------------------------------------------------------------------\u001b[0m",
      "\u001b[1;31mTypeError\u001b[0m                                 Traceback (most recent call last)",
      "Cell \u001b[1;32mIn[20], line 2\u001b[0m\n\u001b[0;32m      1\u001b[0m my_wrong_int \u001b[38;5;241m=\u001b[39m \u001b[38;5;28minput\u001b[39m(\u001b[38;5;124m\"\u001b[39m\u001b[38;5;124mGeef een integer op: \u001b[39m\u001b[38;5;124m\"\u001b[39m)\n\u001b[1;32m----> 2\u001b[0m my_wrong_int \u001b[38;5;241m=\u001b[39m \u001b[43mmy_wrong_int\u001b[49m\u001b[43m \u001b[49m\u001b[38;5;241;43m+\u001b[39;49m\u001b[43m \u001b[49m\u001b[38;5;241;43m1\u001b[39;49m\n\u001b[0;32m      3\u001b[0m \u001b[38;5;28mprint\u001b[39m(my_wrong_int)\n",
      "\u001b[1;31mTypeError\u001b[0m: can only concatenate str (not \"int\") to str"
     ]
    }
   ],
   "source": [
    "my_wrong_int = input(\"Geef een integer op: \")\n",
    "my_wrong_int = my_wrong_int + 1\n",
    "print(my_wrong_int)"
   ]
  },
  {
   "cell_type": "markdown",
   "id": "551570ec",
   "metadata": {},
   "source": [
    "De methode `input()` heeft dus een `string` terug gegeven, die opgeslagen is in de variabele `my_wrong_int`. De type van de variabele wordt hierdoor een `string`, en geen `int`! De wiskundige bewerking die nadien op lijn 2 gebeurd werkt niet, aangezien Python niet weet hoe je het getal `1` moet optellen bij een sliert van tekens (`\"15\"`). _Python spreekt hier over concatenate, wat samenvoegen betekent. Twee slierten van tekens kunnen aan elkaar geplakt worden tot één grote sliert van tekens, en twee integers kunnen opgeteld worden tot één grote integer. De combinatie van een integer en een string lukt niet, evenmin een integer en een float, een float en een string en alles vice versa._\n",
    "\n",
    "Om toch tot een gewenste oplossing te komen zullen we gebruik maken van wat _typecasting_ wordt genaamd. Dit is een type variabele omzetten van één soort naar een andere. Houd er wel mee rekening dat de omzetting mogelijk moet zijn. Indien het onmogelijk is zal een fout gegeven worden.\n",
    "- Een string met daarin enkel en alleen een integer literal kan omgezet worden naar zowel een `int` als een `float`.\n",
    "- Een string met daarin enkel en alleen een float literal kan omgezet worden naar een `float`, maar niet naar een `int`\n",
    "- Een integer kan omgezet worden naar een `float` en naar een `string`\n",
    "- Een float kan omgezet worden naar een `string`, maar niet naar een `int`\n",
    "\n",
    "Volgend voorbeelde demonstreert het proces van _typecasting_:"
   ]
  },
  {
   "cell_type": "code",
   "execution_count": 21,
   "id": "399cbd79",
   "metadata": {},
   "outputs": [
    {
     "name": "stdout",
     "output_type": "stream",
     "text": [
      "124 123\n"
     ]
    }
   ],
   "source": [
    "my_string = \"123\"\n",
    "my_int = int(my_string)\n",
    "print(my_int+1,my_string)"
   ]
  },
  {
   "cell_type": "markdown",
   "id": "b025ca2c",
   "metadata": {},
   "source": [
    "In vorig voorbeeld is opnieuw een `tuple` meegegeven met de `print()` methode, waarbij het eerste element het getal `my_int` was, maar verhoogd met 1. Het tweede element was de oorspronkelijke `string`."
   ]
  },
  {
   "cell_type": "code",
   "execution_count": 22,
   "id": "f1630102",
   "metadata": {},
   "outputs": [
    {
     "ename": "ValueError",
     "evalue": "invalid literal for int() with base 10: '123.0'",
     "output_type": "error",
     "traceback": [
      "\u001b[1;31m---------------------------------------------------------------------------\u001b[0m",
      "\u001b[1;31mValueError\u001b[0m                                Traceback (most recent call last)",
      "Cell \u001b[1;32mIn[22], line 3\u001b[0m\n\u001b[0;32m      1\u001b[0m my_string \u001b[38;5;241m=\u001b[39m \u001b[38;5;124m\"\u001b[39m\u001b[38;5;124m123.0\u001b[39m\u001b[38;5;124m\"\u001b[39m\n\u001b[0;32m      2\u001b[0m my_float \u001b[38;5;241m=\u001b[39m \u001b[38;5;28mfloat\u001b[39m(my_string)\n\u001b[1;32m----> 3\u001b[0m my_int \u001b[38;5;241m=\u001b[39m \u001b[38;5;28;43mint\u001b[39;49m\u001b[43m(\u001b[49m\u001b[43mmy_string\u001b[49m\u001b[43m)\u001b[49m\n\u001b[0;32m      4\u001b[0m \u001b[38;5;28mprint\u001b[39m(my_int,my_float,my_string)\n",
      "\u001b[1;31mValueError\u001b[0m: invalid literal for int() with base 10: '123.0'"
     ]
    }
   ],
   "source": [
    "my_string = \"123.0\"\n",
    "my_float = float(my_string)\n",
    "my_int = int(my_string)\n",
    "print(my_int,my_float,my_string)"
   ]
  },
  {
   "cell_type": "markdown",
   "id": "2820a8f3",
   "metadata": {},
   "source": [
    "Zoals te verwachten wordt er een foutmelding gegeven op lijn 3. De `string` bevatte een `literal float` waarde, die niet kan opgeslagen worden in een variabele van het type `int`. _Later zullen we zien hoe we dit probleem kunnen opvangen met een try except, aangezien we niet altijd gaan weten wat de (eind)gebruiker zal ingeven._\n",
    "\n",
    "Als laatste voorbeeld wordt er _getypecast_ naar het type `string` en vervolgens `geconcateneerd`:"
   ]
  },
  {
   "cell_type": "code",
   "execution_count": 23,
   "id": "18a2f969",
   "metadata": {},
   "outputs": [
    {
     "name": "stdout",
     "output_type": "stream",
     "text": [
      "123.14\n"
     ]
    }
   ],
   "source": [
    "my_int = 12\n",
    "my_float = 3.14\n",
    "print(str(my_int) + str(my_float))"
   ]
  },
  {
   "cell_type": "markdown",
   "id": "53dcccf0",
   "metadata": {},
   "source": [
    "Je kan ook ten aller tijde achterhalen met welk type variabele je te maken hebt. Gebruik hiervoor de methode `type()` die je toepast op een variabele. Volgend voorbeeld demonstreert dit:"
   ]
  },
  {
   "cell_type": "code",
   "execution_count": 24,
   "id": "8c62fcd9",
   "metadata": {},
   "outputs": [
    {
     "name": "stdout",
     "output_type": "stream",
     "text": [
      "<class 'int'>\n",
      "<class 'float'>\n",
      "<class 'str'>\n"
     ]
    }
   ],
   "source": [
    "print(type(my_int))\n",
    "print(type(my_float))\n",
    "print(type(my_string))"
   ]
  },
  {
   "cell_type": "markdown",
   "id": "11bf64c2",
   "metadata": {},
   "source": [
    "## Strings en escape characters\n",
    "\n",
    "In vorig hoofdstuk is gesproken over het feit dat een string variabele niets anders is dan een sliert van tekens. Deze tekens zijn in feite karakters die in tekst gebruikt worden, al dan niet zichtbaar. \n",
    "\n",
    "Om dit voldoende te kunnen uitleggen moet men teruggaan naar de tijd van de [telex](https://nl.wikipedia.org/wiki/Telex_(communicatie)). Dit was een manier van werken om tekst te verzenden van locatie A naar locatie B, en dit zonder gebruik te maken van een brief en/of postduiven. Langs de éné kant van de (elektrische) verbinding had je een toetsenbord, langs de andere kant een (mechanische) printer. Bij het indrukken van een toets langs de verzendkant werd een signaal gegenereerd die elektrisch verstuurd werd. Dit signaal bevatte de informatie van één karakter, namelijk de aangelagen toets. De printer langs de andere kant kon dit karakter decoderen en de juiste hamer selecteren om het gewenste karakter over te brengen op het blad papier. Dit waren de __zichtbare__ karakters. Wanneer men echter naar de volgende lijn wenst te gaan moest dit ook kunnen verstuurd worden. Hiervoor zijn er __onzichtbare__ karakters. \n",
    "\n",
    "Tot op heden wordt er nog altijd frequent gebruik gemaakt van [ASCII](https://nl.wikipedia.org/wiki/ASCII_(tekenset))-karakters. Zaken die men in Python ingeeft op de CLI worden nog altijd doorgegeven in dit formaat. Wat men terugkrijgt eveneens. _Aangezien er vandaag echter meer tekens zijn dan in de 8-bit ASCII tabel kunnen opgenomen worden heeft men [UTF-8](https://nl.wikipedia.org/wiki/UTF-8) in het leven geroepen. Deze manier van coderen laat toe een variabele lengte aan karakters te geven. De karakters met een lengte van 1 byte stemmen nog altijd overeen met de ASCII karakters. Alle overige karakters (tekens uit vreemde geschriften, emoticons, ...) worden gecodeerd met meer bytes._\n",
    "\n",
    "```{figure} ./images/640px-USASCII_code_chart.png\n",
    ":width: 350px\n",
    ":align: left\n",
    ":figwidth: image\n",
    ":figclass: myBlockImg\n",
    "\n",
    "Alle tekens van de ASCII-I tekenset.\n",
    "```\n",
    "\n",
    "In de tabel is duidelijk te zien dat de __zichtbare__ (lees)tekens pas beginnen vanaf kolom 3. De eerste twee kolommen zijn de __onzichtbare__ tekens. De belangrijkste __onzichtbare__ tekens (voor ons) zijn de volgende:\n",
    "- BS (**B**ack **S**pace): Verplaats de schrijfpositie één positie (naar links)\n",
    "- LF (**L**ine **F**eed): Verplaats de schrijfpositie naar de volgende lijn\n",
    "- CR (**C**arriage **R**eturn): Verplaats de schrijfpositie naar het begin van de lijn\n",
    "- HT (**H**orizontal **T**ab): Verplaats de schrijfpositie één tabulatie (naar rechts)\n",
    "\n",
    "Wanneer men de `print()` methode gebruikt zal Python automatisch op het einde van de weergegeven string enkele onzichtbare karakters toevoegen, namelijk een LF en/of een CR. Hierdoor zal op de CLI de volgende keer een `print()` methode gebruikt wordt deze op de __volgende__ lijn te komen staan. _Afhankelijk van de implementatie van de CLI zal deze meestal voldoende hebben met een enkele CR of een enkele LF. Vroeger moest dit altijd een LF **en** een CR zijn, want de schrijfpositie moest naar de volgende regel **en** terugkeren naar het begin van de pagina. Een CR en een LF mag nog altijd, maar de CLI zal slechts één lijn verder gaan._\n",
    "\n",
    "Je kan voorkomen dat Python zelf deze karakters toevoegt door een extra parameter mee te geven met de `print()` methode, namelijk de `end=\"\"` parameter. Volgend voorbeeld verduidelijkt dit:"
   ]
  },
  {
   "cell_type": "code",
   "execution_count": 25,
   "id": "4b1769af",
   "metadata": {},
   "outputs": [
    {
     "name": "stdout",
     "output_type": "stream",
     "text": [
      "Dit is lijn één. Ook dit is lijn één\n"
     ]
    }
   ],
   "source": [
    "print(\"Dit is lijn één. \",end=\"\")\n",
    "print(\"Ook dit is lijn één\")"
   ]
  },
  {
   "cell_type": "markdown",
   "id": "b32a637f",
   "metadata": {},
   "source": [
    "Indien je geen `end` parameter meegeeft met de `print()` methode voegt Python deze zelf toe, ingevuld met een CR en een LF. Indien wij deze zelf meegeven kunnen wij kiezen wat wij op het eind van de string wensen toe te voegen. In bovenstaand voorbeeld voegden we een lege string toe, namelijk `\"\"`. Tussen de dubbele aanhalingstekens kunnen wij zelf kiezen wat er moet komen:"
   ]
  },
  {
   "cell_type": "code",
   "execution_count": 26,
   "id": "a3a316f8",
   "metadata": {},
   "outputs": [
    {
     "name": "stdout",
     "output_type": "stream",
     "text": [
      "Dit is de eerste parameter. En dit is de tweede parameter. En dit is nog altijd lijn één!\n"
     ]
    }
   ],
   "source": [
    "print(\"Dit is de eerste parameter. \",end=\"En dit is de tweede parameter. \")\n",
    "print(\"En dit is nog altijd lijn één!\")"
   ]
  },
  {
   "cell_type": "markdown",
   "id": "28c5b805",
   "metadata": {},
   "source": [
    "Merk op dat de CR en de LF __niet__ worden toegevoegd bij de eerste `print()` methode, dit doordat we gebruik hebben gemaakt van de `end` parameter.\n",
    "\n",
    "### Escape characters\n",
    "\n",
    "Aangezien het onmogelijk is om in een string _onzichtbare_ karakters neer te pennen, moet er een manier bestaan om dit toch te kunnen bewerkstellingen. Hiervoor moeten we in de string bepaalde karakters __escapen__. Het _escapen_ gebeurd door een karakter te laten voorafgaan door een _backslash_ (`\\`). De compiler zal in de string de _escape_ aanduiding `\\` herkennen, en zal het volgende karakter interpreteren als een _ander_, al dan niet _onzichtbaar_, karakter.\n",
    "\n",
    "De vier meest gebruikte _escape_ karakters zijn de volgende:\n",
    "- `\\n`: Dit stemt overeen met een LF karakter. Hiermee wordt naar de volgende lijn gegaan.\n",
    "- `\\r`: Dit stemt overeen met een CR karakter. Hiermee wordt naar het begin van de lijn gegaan.\n",
    "- `\\b`: Dit stemt overeen met een BS karakter. Hiermee wordt er één positie naar links gegaan.\n",
    "- `\\t`: Dit stemt overeen met een HT karakter. Hiermee wordt een tabulatie ingevoegd."
   ]
  },
  {
   "cell_type": "code",
   "execution_count": 27,
   "id": "055920bd",
   "metadata": {},
   "outputs": [
    {
     "name": "stdout",
     "output_type": "stream",
     "text": [
      "Dit is nog steeds lijn 1.\n",
      "En dit zou moeten lijn 2 zijn.\n",
      "En hier volgt een \t tab, en we voegen nog iets toe.\n"
     ]
    }
   ],
   "source": [
    "print(\"Dit is lijn 1.\\rDit is nog steeds lijn 1.\\nEn dit zou moeten lijn 2 zijn.\")\n",
    "print(\"En hier volgt een \\t tab.\\b, en we voegen nog iets toe.\")"
   ]
  },
  {
   "cell_type": "markdown",
   "id": "04edf134",
   "metadata": {},
   "source": [
    "Meteen is duidelijk dat de CLI van Python de regels niet 100% respecteert. Een LF voert eveneens een CR uit, terwijl deze enkel naar de volgende regel zou mogen gaan, en de positie in de lijn niet zou mogen wijzigen. _Iedere CLI implementeert dit op zijn eigen wijze, en het is dan ook nooit slecht dit vooraf te controleren._\n",
    "\n",
    "Ook zichtbare tekens kunnen _geëscaped_ worden. We weten ondertussen dat het begin en het einde van een string wordt gemarkeerd a.d.h.v. enkele of dubbele aanhalingstekens. En wat indien we dit nu willen opnemen in onze string, zonder dat Python veronderstelt dat dit het einde is van de string?"
   ]
  },
  {
   "cell_type": "code",
   "execution_count": 28,
   "id": "aa33a780",
   "metadata": {},
   "outputs": [
    {
     "ename": "SyntaxError",
     "evalue": "unterminated string literal (detected at line 1) (654408951.py, line 1)",
     "output_type": "error",
     "traceback": [
      "\u001b[1;36m  Cell \u001b[1;32mIn[28], line 1\u001b[1;36m\u001b[0m\n\u001b[1;33m    print(\"Het printen van een \"-teken in een string zal niet lukken zonder escape karakter.\")\u001b[0m\n\u001b[1;37m                                                                                            ^\u001b[0m\n\u001b[1;31mSyntaxError\u001b[0m\u001b[1;31m:\u001b[0m unterminated string literal (detected at line 1)\n"
     ]
    }
   ],
   "source": [
    "print(\"Het printen van een \"-teken in een string zal niet lukken zonder escape karakter.\")"
   ]
  },
  {
   "cell_type": "markdown",
   "id": "aa61960c",
   "metadata": {},
   "source": [
    "Python denkt in bovenstaand voorbeeld dat de string al wordt beïndigd na het 21<sup>ste</sup> teken. Het laatste `\"` teken is dus onmogelijk, aangezien iedere opening van een string aanduiding ook terug moet afgesloten worden. Python vlagt dit met een foutmelding (SyntaxError). \n",
    "\n",
    "Lossen we dit op met een _escape_ karakter:"
   ]
  },
  {
   "cell_type": "code",
   "execution_count": 29,
   "id": "baf62f11",
   "metadata": {},
   "outputs": [
    {
     "name": "stdout",
     "output_type": "stream",
     "text": [
      "Het printen van een \"-teken in een string zal wel lukken met een escape karakter.\n"
     ]
    }
   ],
   "source": [
    "print(\"Het printen van een \\\"-teken in een string zal wel lukken met een escape karakter.\")"
   ]
  },
  {
   "cell_type": "markdown",
   "id": "87e7e8eb",
   "metadata": {},
   "source": [
    "Er zijn nog enkele [standaard _escape_ karakters](https://en.wikipedia.org/wiki/Escape_character), zoals het _escapen_ van een _escape_ karakter, wat je kan tegenkomen bij UNC paden in Windows."
   ]
  },
  {
   "cell_type": "code",
   "execution_count": 30,
   "id": "27dda55f",
   "metadata": {},
   "outputs": [
    {
     "name": "stdout",
     "output_type": "stream",
     "text": [
      "\\\\HOMESVR\\Documents\\file.txt\n"
     ]
    }
   ],
   "source": [
    "print(\"\\\\\\\\HOMESVR\\\\Documents\\\\file.txt\")"
   ]
  },
  {
   "cell_type": "markdown",
   "id": "bdcfa498",
   "metadata": {},
   "source": [
    "### f-strings\n",
    "\n",
    "Bij het werken met strings zul je al snel ondervinden dat je dikwijls variabelen hierin wil opnemen. Door gebruik te maken van _concatenatie_ en _typecasting_ lukt dit, maar dit blijft omslachtig. "
   ]
  },
  {
   "cell_type": "code",
   "execution_count": 31,
   "id": "cb1f6c18",
   "metadata": {},
   "outputs": [
    {
     "name": "stdout",
     "output_type": "stream",
     "text": [
      "Ik ben 39 jaar oud.\n"
     ]
    }
   ],
   "source": [
    "my_int = 39\n",
    "print(\"Ik ben \" + str(my_int) + \" jaar oud.\")"
   ]
  },
  {
   "cell_type": "markdown",
   "id": "4667066f",
   "metadata": {},
   "source": [
    "Een snellere manier is gebruik maken van f-strings, zodat de Python compiler al dit werk doet voor jou. Volgend voorbeeld verduidelijkt dit:"
   ]
  },
  {
   "cell_type": "code",
   "execution_count": 32,
   "id": "4ca580bf",
   "metadata": {},
   "outputs": [
    {
     "name": "stdout",
     "output_type": "stream",
     "text": [
      "Ik ben 39 jaar oud.\n"
     ]
    }
   ],
   "source": [
    "print(f\"Ik ben {my_int} jaar oud.\")"
   ]
  },
  {
   "cell_type": "markdown",
   "id": "4d14ba1a",
   "metadata": {},
   "source": [
    "Je laat dus de string vooraf gaan door de letter `f`, en in de string zelf kun je willekeurige variabelen opnemen als je deze plaatst tussen `{}`. De compiler zal vooraf kijken wat het formaat is van de variabele, en _typecasting_ uitvoeren zodat deze in de string kan opgenomen worden. Je kan zelf tussen de `{}` Python commando's plaatsen die éérst zullen uitgevoerd worden vooraleer de string wordt uitgevoerd. _Het voorbeeld hieronder is puur als demonstratie. **Deze manier van werken raad ik ook ten stelligste af**, aangezien dit de leesbaarheid allesbehalve bevordert. Schrijf dit liever in twee lijnen!_"
   ]
  },
  {
   "cell_type": "code",
   "execution_count": 33,
   "id": "3ae37ce4",
   "metadata": {},
   "outputs": [
    {
     "name": "stdin",
     "output_type": "stream",
     "text": [
      "Wat is jouw naam?  Koen\n"
     ]
    },
    {
     "name": "stdout",
     "output_type": "stream",
     "text": [
      "Mijn naam is Koen.\n"
     ]
    }
   ],
   "source": [
    "print(f\"Mijn naam is {input(\"Wat is jouw naam? \")}.\")"
   ]
  },
  {
   "cell_type": "markdown",
   "id": "f9ab296b",
   "metadata": {},
   "source": [
    "### Multiline strings\n",
    "\n",
    "Indien we te maken hebben met heel lange strings, verdeeld over meerdere regels, dan kan i.p.v. _escape_ karakters te gebruiken, er geopteerd worden voor _multiline strings_. _Een typisch voorbeeld is wanneer we bijvoorbeeld HTML wensen toe te voegen aan een programma, om op een embedded webserver te plaatsen._\n",
    "\n",
    "Een _multiline string_ wordt gestart met drie aanhalingstekens i.p.v. één. Python zal vervolgens zelf herkennen wanneer een LF en/of CR toegevoegd is, en dit vertalen naar de juiste _escape_ karakters."
   ]
  },
  {
   "cell_type": "code",
   "execution_count": 34,
   "id": "5bcf9ff1",
   "metadata": {},
   "outputs": [
    {
     "name": "stdout",
     "output_type": "stream",
     "text": [
      "Dit is de eerste lijn.\n",
      "Dit is de tweede lijn.\n",
      "Dit is de derde lijn.\n"
     ]
    }
   ],
   "source": [
    "lange_str = \"\"\"Dit is de eerste lijn.\n",
    "Dit is de tweede lijn.\n",
    "Dit is de derde lijn.\"\"\"\n",
    "print(lange_str)"
   ]
  }
 ],
 "metadata": {
  "kernelspec": {
   "display_name": "Python 3 (ipykernel)",
   "language": "python",
   "name": "python3"
  },
  "language_info": {
   "codemirror_mode": {
    "name": "ipython",
    "version": 3
   },
   "file_extension": ".py",
   "mimetype": "text/x-python",
   "name": "python",
   "nbconvert_exporter": "python",
   "pygments_lexer": "ipython3",
   "version": "3.12.5"
  }
 },
 "nbformat": 4,
 "nbformat_minor": 5
}
