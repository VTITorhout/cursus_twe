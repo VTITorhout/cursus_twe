{
 "cells": [
  {
   "cell_type": "markdown",
   "id": "72c53bbe-d99e-472a-918d-0290e208f11d",
   "metadata": {},
   "source": [
    "# Functies\n",
    "\n",
    "## Inleiding\n",
    "\n",
    "## Gebruik\n",
    "\n",
    "### Parameters\n",
    "\n",
    "### Return values\n",
    "\n",
    "# Foutafhandeling\n",
    "\n"
   ]
  },
  {
   "cell_type": "code",
   "execution_count": null,
   "id": "6120805d-b515-428a-a2f0-8c121d151950",
   "metadata": {},
   "outputs": [],
   "source": []
  }
 ],
 "metadata": {
  "kernelspec": {
   "display_name": "Python 3 (ipykernel)",
   "language": "python",
   "name": "python3"
  },
  "language_info": {
   "codemirror_mode": {
    "name": "ipython",
    "version": 3
   },
   "file_extension": ".py",
   "mimetype": "text/x-python",
   "name": "python",
   "nbconvert_exporter": "python",
   "pygments_lexer": "ipython3",
   "version": "3.12.5"
  }
 },
 "nbformat": 4,
 "nbformat_minor": 5
}
