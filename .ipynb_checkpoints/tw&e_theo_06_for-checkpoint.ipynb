{
 "cells": [
  {
   "cell_type": "markdown",
   "id": "8d820bc8-8406-428e-bc5e-f5641939d497",
   "metadata": {},
   "source": [
    "(for-target)=\n",
    "# De begrensde herhaling\n",
    "\n",
    "## Inleiding\n",
    "\n",
    "Heel dikwijls weten we reeds vooraf hoeveel keer de lus doorlopen zal moeten worden. Op dat moment spreken we niet meer van de voorwaardelijke herhaling (waar een expressie bepalend was of de lus moet herhaald worden), maar spreken we van de begrensde herhaling. De grenzen liggen al vast van voor we starten aan het herhalen. Er is dus geen expressie nodig die bepalend zal zijn of er moet herhaald worden. De meest typische voorbeelden die we zullen tegenkomen zijn verzamelingen van objecten die we willen doorlopen. Via de functie `len(<object>)` kunnen we vooraf reeds bepalen hoeveel keer herhaald zal moeten worden.\n",
    "\n",
    "## Opbouw\n",
    "\n",
    "Een begrensde herhaling wordt opgebouwd met het `for` sleutelwoord. Het ingesprongen programmablok onder het for sleutelwoord wordt uitgevoerd zolang er elementen aanwezig zijn `in` de verzameling, m.a.w. tot het itereerbare object volledig is doorlopen. Bij iedere herhaling wordt het volgend element uit de verzameling gehaald.\n",
    "\n",
    "```\n",
    "for <element> in <iterable>:\n",
    "    #<element> is nu beschikbaar om iets mee te doen\n",
    "    <deze code zal wellicht zaken uitvoeren met element> \n",
    "<deze code wordt uitgevoerd wanneer de volledige iterable is doorlopen>\n",
    "```\n",
    "\n",
    "### Range\n",
    "Als eerste voorbeeld halen we het itereerbare object `range` aan. Onderstaand voorbeeld geeft code die een begrensd aantal keren herhaald:"
   ]
  },
  {
   "cell_type": "code",
   "execution_count": 1,
   "id": "818356ba-a3e2-40f0-a3c7-89fb3389cef6",
   "metadata": {},
   "outputs": [
    {
     "name": "stdout",
     "output_type": "stream",
     "text": [
      "0\n",
      "1\n",
      "2\n",
      "3\n",
      "4\n"
     ]
    }
   ],
   "source": [
    "for element in range(0,5):\n",
    "    print(element)"
   ]
  },
  {
   "cell_type": "markdown",
   "id": "564614ff-af45-463b-bc34-2b306ac5fc92",
   "metadata": {},
   "source": [
    "In het itereerbaar object `range` zit een verzameling van integers, gaande van 0 tot 4 (=5-1). Integer per integer wordt toegekend aan de variabele `element` iedere keer de `for` loop wordt doorlopen.\n",
    "\n",
    ":::{admonition} Opmerking\n",
    ":class: note\n",
    "Enkel `for` en `in` zijn verplichte keywords. `element` kan gelijk welke naam zijn. Dit is een variabele die wordt aangemaakt terwijl de for loop wordt uitgevoerd, en die beschikbaar zal zijn in de scope van de for loop. Mocht de `<verzameling>` bijvoorbeeld namen van leerlingen bevatten, dan zou je kunnen schrijven `for leerling in <verzameling>`, waarbij `leerling` iedere keer de naam van de leerling zal bevatten.\n",
    ":::\n",
    "\n",
    "\n",
    "### String\n",
    "\n",
    "Aangezien een string een itereerbaar object is, kan ook een string aangeboden worden aan de for loop. Dit laat ons toe doorheen ieder karakter van de string te lopen."
   ]
  },
  {
   "cell_type": "code",
   "execution_count": 2,
   "id": "3eb3d014-5f3f-4c15-9833-b1a8fd6d2745",
   "metadata": {},
   "outputs": [
    {
     "name": "stdout",
     "output_type": "stream",
     "text": [
      "K\n",
      "o\n",
      "e\n",
      "n\n"
     ]
    }
   ],
   "source": [
    "myStr = \"Koen\"\n",
    "for letter in myStr:\n",
    "    print(letter)"
   ]
  },
  {
   "cell_type": "markdown",
   "id": "27d11037-0089-4e7d-b7c5-beb3e8e5da63",
   "metadata": {},
   "source": [
    "### List/tuple\n",
    "\n",
    "Hetzelfde geld voor lists en tuples. De eerder aangehaalde [`print(*<list/tuple>)`](project:#printlist-target) functie die de haken van rond een list en/of tuple verwijdert kan met een for loop eenvoudig zelf geïmplementeerd worden:\n"
   ]
  },
  {
   "cell_type": "code",
   "execution_count": 3,
   "id": "8e553cb2-1c23-4023-a1df-e604c6960103",
   "metadata": {},
   "outputs": [
    {
     "name": "stdout",
     "output_type": "stream",
     "text": [
      "Koen 39 "
     ]
    }
   ],
   "source": [
    "myList = [\"Koen\",39]\n",
    "for el in myList:\n",
    "    print(el,end=\" \")"
   ]
  },
  {
   "cell_type": "markdown",
   "id": "c38bda4a-ccc0-44b7-a98f-abb8471033b1",
   "metadata": {},
   "source": [
    "### Dictionary\n",
    "\n",
    "Bij een dictionary is het gebruik van een for loop wellicht niet wat je zou verwachten:"
   ]
  },
  {
   "cell_type": "code",
   "execution_count": 4,
   "id": "bbb63408-be9f-4f50-9cba-a767991c47b8",
   "metadata": {},
   "outputs": [
    {
     "name": "stdout",
     "output_type": "stream",
     "text": [
      "5TW&E\n",
      "5ICW\n"
     ]
    }
   ],
   "source": [
    "myDict = {\"5TW&E\":10, \"5ICW\":7}\n",
    "for kv in myDict:\n",
    "    print(kv)"
   ]
  },
  {
   "cell_type": "markdown",
   "id": "c558677e-716c-42ce-b1bd-353d39830665",
   "metadata": {},
   "source": [
    "Men zou foutief kunnen veronderstellen dat het doorlopen van een dictionary de `key:value`-pairs (verder kv-pair genaamd) zou itereren. We krijgen echter bij het doorlopen van een dictionary enkel de keys. Bij de [methodes](project:#dictmethodes-target) die kunnen toegepast worden op dictionaries hebben we gezien dat we expliciet kunnen vragen naar de kv-pairs door de methode `.items()`, wat ons een itereerbaar object levert. Kiezen we niet voor deze methode, dan wordt standaard de methode `.keys()` aangeroepen, die ons eveneens een itereerbaar object levert, maar die enkel de keys bevat, zoals in bovenstaand voorbeeld kon opgemerkt worden."
   ]
  },
  {
   "cell_type": "code",
   "execution_count": 6,
   "id": "a9f7acc8-e94a-4f63-a353-8f340627dae0",
   "metadata": {},
   "outputs": [
    {
     "name": "stdout",
     "output_type": "stream",
     "text": [
      "('5TW&E', 10)\n",
      "('5ICW', 7)\n"
     ]
    }
   ],
   "source": [
    "for kv in myDict.items():\n",
    "    print(kv)"
   ]
  },
  {
   "cell_type": "markdown",
   "id": "bcc68c3a-d62b-4c87-b8a3-830222f82996",
   "metadata": {},
   "source": [
    "Bovenstaand voorbeeld levert dus de kv-pairs zoals gewenst. Aangezien zowel de key als de value een waarde is, wordt het kv-pair aangeleverd als een tuple. Je kan overigens meteen deze tuple gaan uitsplitsen in de key en de value als aparte variabele: "
   ]
  },
  {
   "cell_type": "code",
   "execution_count": 7,
   "id": "9a3b662a-14c4-402a-8272-3a663eb07d9c",
   "metadata": {},
   "outputs": [
    {
     "name": "stdout",
     "output_type": "stream",
     "text": [
      "De key is 5TW&E en de value bedraagt 10.\n",
      "De key is 5ICW en de value bedraagt 7.\n"
     ]
    }
   ],
   "source": [
    "for k,v in myDict.items():\n",
    "    print(f\"De key is {k} en de value bedraagt {v}.\")"
   ]
  },
  {
   "cell_type": "markdown",
   "id": "b0fafcdc-d9e1-4da9-8dec-a2863a7580ef",
   "metadata": {},
   "source": [
    "## Keuzestress\n",
    "\n",
    "Nu we beide lussen hebben gezien (de `while` en de `for`) kun je je afvragen welke lus er in een gegeven toepassing moet gebruikt worden. Vaak zijn beide constructies mogelijk voor een gegeven toepassing. Het is overigens bijna altijd zo dat er niet één juiste oplossing is voor een probleem. Het is dikwijls een afgewogen keuze in functie van de leesbaarheid en de eenvoud van de oplossing die bepaalt of je voor de ene of de andere gaat. In regel is het echter zo dat wanneer je tijdens de lus beslist of de lus al dan niet verder gezet wordt, je meestal kiest voor een while statement."
   ]
  }
 ],
 "metadata": {
  "kernelspec": {
   "display_name": "Python 3 (ipykernel)",
   "language": "python",
   "name": "python3"
  },
  "language_info": {
   "codemirror_mode": {
    "name": "ipython",
    "version": 3
   },
   "file_extension": ".py",
   "mimetype": "text/x-python",
   "name": "python",
   "nbconvert_exporter": "python",
   "pygments_lexer": "ipython3",
   "version": "3.12.5"
  }
 },
 "nbformat": 4,
 "nbformat_minor": 5
}
