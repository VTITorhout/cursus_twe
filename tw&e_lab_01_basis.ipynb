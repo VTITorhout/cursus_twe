{
 "cells": [
  {
   "cell_type": "markdown",
   "id": "1049da7b-aa2c-400e-81b5-1defddbb52b0",
   "metadata": {},
   "source": [
    "## Hello World\n",
    "\n",
    "AANDACHT VOOR INTERRUPT ON KEYBOARD en IF MAIN"
   ]
  },
  {
   "cell_type": "code",
   "execution_count": null,
   "id": "dff92366-de51-42e1-b27f-88d153ea4221",
   "metadata": {},
   "outputs": [],
   "source": []
  }
 ],
 "metadata": {
  "kernelspec": {
   "display_name": "Python 3 (ipykernel)",
   "language": "python",
   "name": "python3"
  },
  "language_info": {
   "codemirror_mode": {
    "name": "ipython",
    "version": 3
   },
   "file_extension": ".py",
   "mimetype": "text/x-python",
   "name": "python",
   "nbconvert_exporter": "python",
   "pygments_lexer": "ipython3",
   "version": "3.12.5"
  }
 },
 "nbformat": 4,
 "nbformat_minor": 5
}
